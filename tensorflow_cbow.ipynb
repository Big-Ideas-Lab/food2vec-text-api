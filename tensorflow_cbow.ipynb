{
 "cells": [
  {
   "cell_type": "markdown",
   "metadata": {},
   "source": [
    "https://www.tensorflow.org/tutorials/text/word_embeddings\n",
    "\n",
    "https://stackabuse.com/python-for-nlp-word-embeddings-for-deep-learning-in-keras/\n",
    "\n",
    "https://medium.com/analytics-vidhya/implementing-word2vec-in-tensorflow-44f93cf2665f"
   ]
  },
  {
   "cell_type": "code",
   "execution_count": 1,
   "metadata": {},
   "outputs": [
    {
     "name": "stderr",
     "output_type": "stream",
     "text": [
      "[nltk_data] Downloading package punkt to\n",
      "[nltk_data]     C:\\Users\\Owner\\AppData\\Roaming\\nltk_data...\n",
      "[nltk_data]   Package punkt is already up-to-date!\n"
     ]
    }
   ],
   "source": [
    "import tensorflow.compat.v1 as tf\n",
    "from tensorflow import keras\n",
    "from tensorflow.keras import layers\n",
    "import tensorflow_datasets as tfds\n",
    "import os\n",
    "# import pandas as pd \n",
    "from nltk.tokenize import sent_tokenize, word_tokenize\n",
    "from scipy import spatial\n",
    "import nltk\n",
    "import requests\n",
    "nltk.download('punkt')\n",
    "import gensim\n",
    "import re\n",
    "import sys\n",
    "sys.setrecursionlimit(10**6)\n",
    "import random\n",
    "import numpy as np\n",
    "from collections import OrderedDict\n",
    "from sklearn.manifold import TSNE\n",
    "import matplotlib.pyplot as plt\n",
    "%matplotlib inline\n",
    "import json\n",
    "tf.compat.v1.disable_eager_execution()"
   ]
  },
  {
   "cell_type": "markdown",
   "metadata": {},
   "source": [
    "## Prepare Data"
   ]
  },
  {
   "cell_type": "markdown",
   "metadata": {},
   "source": [
    "### Prepare query words for querying the server"
   ]
  },
  {
   "cell_type": "code",
   "execution_count": 2,
   "metadata": {},
   "outputs": [],
   "source": [
    "foods = pd.read_csv(\"foods.csv\", delimiter=\",\", skipinitialspace=True)\n",
    "\n",
    "# Get unique words\n",
    "unique_words = foods[\"food_name\"].unique()\n",
    "query_words = list(unique_words) # list of words we will query\n",
    "# query_words = query_words[::2]\n",
    "query_words = random.sample(query_words, 300)\n",
    "\n",
    "def make_query_string(blim, tlim):\n",
    "    string = \"\"\n",
    "    a = 0\n",
    "    for word in query_words[blim:tlim]:\n",
    "        a+=1\n",
    "        word.replace(\",\", \"\")\n",
    "        if a == len(query_words[blim:tlim]):\n",
    "            string = string+word\n",
    "        else:\n",
    "            string = string+word+\",\"\n",
    "    return string\n",
    "\n",
    "def make_all_query_strings():\n",
    "    strings = []\n",
    "    blim = 0\n",
    "    tlim = 100\n",
    "    a = False\n",
    "    while tlim <= len(query_words):\n",
    "        string = make_query_string(blim, tlim)\n",
    "        strings.append(string)\n",
    "        if a is True:\n",
    "            return strings\n",
    "        blim += 100\n",
    "        tlim += 100\n",
    "        if tlim >= len(query_words) and a == False:\n",
    "            tlim = len(query_words)\n",
    "            a = True\n",
    "        print(a)\n",
    "        \n",
    "\n",
    "server_name = \"http://localhost:5000\"\n",
    "\n",
    "def get_corpus():\n",
    "    strings = make_all_query_strings()\n",
    "    responses = []\n",
    "    a = 0\n",
    "    for string in strings:\n",
    "        r = requests.get(server_name+\"/recipes?queries={}&number=10\".format(string))\n",
    "        if r.status_code != 200:\n",
    "            print(\"Error: {} - {}\".format(r.status_code, r.text))\n",
    "        else:\n",
    "            print(\"Success\")\n",
    "        responses.append(r.json())\n",
    "        print(a)\n",
    "        a+=1\n",
    "    return responses"
   ]
  },
  {
   "cell_type": "markdown",
   "metadata": {},
   "source": [
    "### Get and Save Corpus"
   ]
  },
  {
   "cell_type": "code",
   "execution_count": 6,
   "metadata": {},
   "outputs": [
    {
     "name": "stdout",
     "output_type": "stream",
     "text": [
      "False\n",
      "True\n"
     ]
    },
    {
     "ename": "ConnectionError",
     "evalue": "HTTPConnectionPool(host='localhost', port=5000): Max retries exceeded with url: /recipe?query=Coffee%20Mocha,mashed%20sweet%20potato,Pasta%20Salads,earl%20grey%20tea,chicken%20salad%20sandwich,Peanut%20Bar,%20Fresh%20Roasted,balsamic%20dressing,Maple%20Almond%20Butter,Maple%20Pecan%20Granola%20Cereal,Spaghetti,Mushroom%20&%20Truffle%20Italian%20Flatbread%20Pizza,country%20crock,grape,Roasted%20&%20Salted%20Shelled%20Pistachios,Gourmet%20Popcorn,Hook%20&%20Ladder%20-%20Medium,Tortilla%20Chips,%20Blue%20Chips,Pumpkin%20spice%20cake,Shells%20&%20White%20Cheddar,Dip,%20French%20Onion,Challah,nectarines,low%20fat%20milk,toast%20with%20jam,pulled%20pork,vegetable%20medley,fresh%20squeezed%20juice,Greek%20Dressing,dutch%20baby,jelly%20belly,Cheese%20Stick,%20Wisconsin%20Sharp%20Cheddar%20Natural,Napa%20Cabbage%20Kimchi,%20Classic,wild%20rice,gingerbread%20cookies,chick%20fil%20a%20grilled%20nuggets%208%20count,frozen%20mixed%20vegetables,canned%20peaches,Strawberry%20Non-fat%20Yogurt,diet%20mountain%20dew,romaine,corn%20canned,Tropical%20Punch,Shells%20&%20Cheese,%20Jumbo%20Shells,%20Original,pink%20lady%20apple,100%25%20Cranberry%20Juice,corn%20salsa,whole%20wheat%20roll,Weekday%20breakfast,cheese%20quesadia,cherry%20tomatoes,roasted%20pumpkin%20seeds,steamed%20shrimp%20dumpling,Yogurt%20topping,mixed%20green%20salad,oatmeal%20cookie,pork%20roast,carnitas%20taco,mozzarella,Arnold%20Palmer,Tomato%20Avocado%20Salad,Protein%20Smoothie,honey%20roasted%20turkey,ziti%20pasta,Moroccan%20Lamb%20Stew%20with%20Couscous,bigmac,taco%20meat,macaroni%20cheese,Lemonade,%20Small,low%20fat%20cream%20cheese,fish%20tacos,Diced%20Potatoes%20with%20Onions,mushroom%20spinach%20pizza,Egg%20Scramble,steel%20cut%20oatmeal,grated%20parmesan,Honeycrisp%20Apple%20Cider%20Blend,Sprouted%20Whole%20Grain%20Bread,Pistachio,Peanut%20Butter%20Tree,%20Milk%20Chocolate,Sliced%20Apples,cilantro%20sauce,Organic%20Bratwurst%20Chicken%20Sausage,swedish%20meatballs,grits%20dry,chili%20sauce,white%20fish,Nutty%20Bars,Fat%20Free%20Balsamic%20Vinaigrette%20Dressing,jalapeno,Stuffing,%20Cornbread,apple%20cider%20vinegar,Peach%20Blueberry%20Pie,iced%20tea,Seasoned%20Collard%20Greens,corn%20tortillas,This%20Cranberry%20Walks%20into%20a%20Bar%20Cereal%20Bars,Whole%20Grains%20Bread,almond,chicken%20boneless%20skinless,blackberry%20jelly&number=10 (Caused by NewConnectionError('<urllib3.connection.HTTPConnection object at 0x7fbc62c3ec18>: Failed to establish a new connection: [Errno 111] Connection refused'))",
     "output_type": "error",
     "traceback": [
      "\u001b[0;31m\u001b[0m",
      "\u001b[0;31mConnectionRefusedError\u001b[0mTraceback (most recent call last)",
      "\u001b[0;32m/opt/conda/lib/python3.7/site-packages/urllib3/connection.py\u001b[0m in \u001b[0;36m_new_conn\u001b[0;34m(self)\u001b[0m\n\u001b[1;32m    159\u001b[0m             conn = connection.create_connection(\n\u001b[0;32m--> 160\u001b[0;31m                 (self._dns_host, self.port), self.timeout, **extra_kw)\n\u001b[0m\u001b[1;32m    161\u001b[0m \u001b[0;34m\u001b[0m\u001b[0m\n",
      "\u001b[0;32m/opt/conda/lib/python3.7/site-packages/urllib3/util/connection.py\u001b[0m in \u001b[0;36mcreate_connection\u001b[0;34m(address, timeout, source_address, socket_options)\u001b[0m\n\u001b[1;32m     79\u001b[0m     \u001b[0;32mif\u001b[0m \u001b[0merr\u001b[0m \u001b[0;32mis\u001b[0m \u001b[0;32mnot\u001b[0m \u001b[0;32mNone\u001b[0m\u001b[0;34m:\u001b[0m\u001b[0;34m\u001b[0m\u001b[0;34m\u001b[0m\u001b[0m\n\u001b[0;32m---> 80\u001b[0;31m         \u001b[0;32mraise\u001b[0m \u001b[0merr\u001b[0m\u001b[0;34m\u001b[0m\u001b[0;34m\u001b[0m\u001b[0m\n\u001b[0m\u001b[1;32m     81\u001b[0m \u001b[0;34m\u001b[0m\u001b[0m\n",
      "\u001b[0;32m/opt/conda/lib/python3.7/site-packages/urllib3/util/connection.py\u001b[0m in \u001b[0;36mcreate_connection\u001b[0;34m(address, timeout, source_address, socket_options)\u001b[0m\n\u001b[1;32m     69\u001b[0m                 \u001b[0msock\u001b[0m\u001b[0;34m.\u001b[0m\u001b[0mbind\u001b[0m\u001b[0;34m(\u001b[0m\u001b[0msource_address\u001b[0m\u001b[0;34m)\u001b[0m\u001b[0;34m\u001b[0m\u001b[0;34m\u001b[0m\u001b[0m\n\u001b[0;32m---> 70\u001b[0;31m             \u001b[0msock\u001b[0m\u001b[0;34m.\u001b[0m\u001b[0mconnect\u001b[0m\u001b[0;34m(\u001b[0m\u001b[0msa\u001b[0m\u001b[0;34m)\u001b[0m\u001b[0;34m\u001b[0m\u001b[0;34m\u001b[0m\u001b[0m\n\u001b[0m\u001b[1;32m     71\u001b[0m             \u001b[0;32mreturn\u001b[0m \u001b[0msock\u001b[0m\u001b[0;34m\u001b[0m\u001b[0;34m\u001b[0m\u001b[0m\n",
      "\u001b[0;31mConnectionRefusedError\u001b[0m: [Errno 111] Connection refused",
      "\nDuring handling of the above exception, another exception occurred:\n",
      "\u001b[0;31mNewConnectionError\u001b[0mTraceback (most recent call last)",
      "\u001b[0;32m/opt/conda/lib/python3.7/site-packages/urllib3/connectionpool.py\u001b[0m in \u001b[0;36murlopen\u001b[0;34m(self, method, url, body, headers, retries, redirect, assert_same_host, timeout, pool_timeout, release_conn, chunked, body_pos, **response_kw)\u001b[0m\n\u001b[1;32m    602\u001b[0m                                                   \u001b[0mbody\u001b[0m\u001b[0;34m=\u001b[0m\u001b[0mbody\u001b[0m\u001b[0;34m,\u001b[0m \u001b[0mheaders\u001b[0m\u001b[0;34m=\u001b[0m\u001b[0mheaders\u001b[0m\u001b[0;34m,\u001b[0m\u001b[0;34m\u001b[0m\u001b[0;34m\u001b[0m\u001b[0m\n\u001b[0;32m--> 603\u001b[0;31m                                                   chunked=chunked)\n\u001b[0m\u001b[1;32m    604\u001b[0m \u001b[0;34m\u001b[0m\u001b[0m\n",
      "\u001b[0;32m/opt/conda/lib/python3.7/site-packages/urllib3/connectionpool.py\u001b[0m in \u001b[0;36m_make_request\u001b[0;34m(self, conn, method, url, timeout, chunked, **httplib_request_kw)\u001b[0m\n\u001b[1;32m    354\u001b[0m         \u001b[0;32melse\u001b[0m\u001b[0;34m:\u001b[0m\u001b[0;34m\u001b[0m\u001b[0;34m\u001b[0m\u001b[0m\n\u001b[0;32m--> 355\u001b[0;31m             \u001b[0mconn\u001b[0m\u001b[0;34m.\u001b[0m\u001b[0mrequest\u001b[0m\u001b[0;34m(\u001b[0m\u001b[0mmethod\u001b[0m\u001b[0;34m,\u001b[0m \u001b[0murl\u001b[0m\u001b[0;34m,\u001b[0m \u001b[0;34m**\u001b[0m\u001b[0mhttplib_request_kw\u001b[0m\u001b[0;34m)\u001b[0m\u001b[0;34m\u001b[0m\u001b[0;34m\u001b[0m\u001b[0m\n\u001b[0m\u001b[1;32m    356\u001b[0m \u001b[0;34m\u001b[0m\u001b[0m\n",
      "\u001b[0;32m/opt/conda/lib/python3.7/http/client.py\u001b[0m in \u001b[0;36mrequest\u001b[0;34m(self, method, url, body, headers, encode_chunked)\u001b[0m\n\u001b[1;32m   1228\u001b[0m         \u001b[0;34m\"\"\"Send a complete request to the server.\"\"\"\u001b[0m\u001b[0;34m\u001b[0m\u001b[0;34m\u001b[0m\u001b[0m\n\u001b[0;32m-> 1229\u001b[0;31m         \u001b[0mself\u001b[0m\u001b[0;34m.\u001b[0m\u001b[0m_send_request\u001b[0m\u001b[0;34m(\u001b[0m\u001b[0mmethod\u001b[0m\u001b[0;34m,\u001b[0m \u001b[0murl\u001b[0m\u001b[0;34m,\u001b[0m \u001b[0mbody\u001b[0m\u001b[0;34m,\u001b[0m \u001b[0mheaders\u001b[0m\u001b[0;34m,\u001b[0m \u001b[0mencode_chunked\u001b[0m\u001b[0;34m)\u001b[0m\u001b[0;34m\u001b[0m\u001b[0;34m\u001b[0m\u001b[0m\n\u001b[0m\u001b[1;32m   1230\u001b[0m \u001b[0;34m\u001b[0m\u001b[0m\n",
      "\u001b[0;32m/opt/conda/lib/python3.7/http/client.py\u001b[0m in \u001b[0;36m_send_request\u001b[0;34m(self, method, url, body, headers, encode_chunked)\u001b[0m\n\u001b[1;32m   1274\u001b[0m             \u001b[0mbody\u001b[0m \u001b[0;34m=\u001b[0m \u001b[0m_encode\u001b[0m\u001b[0;34m(\u001b[0m\u001b[0mbody\u001b[0m\u001b[0;34m,\u001b[0m \u001b[0;34m'body'\u001b[0m\u001b[0;34m)\u001b[0m\u001b[0;34m\u001b[0m\u001b[0;34m\u001b[0m\u001b[0m\n\u001b[0;32m-> 1275\u001b[0;31m         \u001b[0mself\u001b[0m\u001b[0;34m.\u001b[0m\u001b[0mendheaders\u001b[0m\u001b[0;34m(\u001b[0m\u001b[0mbody\u001b[0m\u001b[0;34m,\u001b[0m \u001b[0mencode_chunked\u001b[0m\u001b[0;34m=\u001b[0m\u001b[0mencode_chunked\u001b[0m\u001b[0;34m)\u001b[0m\u001b[0;34m\u001b[0m\u001b[0;34m\u001b[0m\u001b[0m\n\u001b[0m\u001b[1;32m   1276\u001b[0m \u001b[0;34m\u001b[0m\u001b[0m\n",
      "\u001b[0;32m/opt/conda/lib/python3.7/http/client.py\u001b[0m in \u001b[0;36mendheaders\u001b[0;34m(self, message_body, encode_chunked)\u001b[0m\n\u001b[1;32m   1223\u001b[0m             \u001b[0;32mraise\u001b[0m \u001b[0mCannotSendHeader\u001b[0m\u001b[0;34m(\u001b[0m\u001b[0;34m)\u001b[0m\u001b[0;34m\u001b[0m\u001b[0;34m\u001b[0m\u001b[0m\n\u001b[0;32m-> 1224\u001b[0;31m         \u001b[0mself\u001b[0m\u001b[0;34m.\u001b[0m\u001b[0m_send_output\u001b[0m\u001b[0;34m(\u001b[0m\u001b[0mmessage_body\u001b[0m\u001b[0;34m,\u001b[0m \u001b[0mencode_chunked\u001b[0m\u001b[0;34m=\u001b[0m\u001b[0mencode_chunked\u001b[0m\u001b[0;34m)\u001b[0m\u001b[0;34m\u001b[0m\u001b[0;34m\u001b[0m\u001b[0m\n\u001b[0m\u001b[1;32m   1225\u001b[0m \u001b[0;34m\u001b[0m\u001b[0m\n",
      "\u001b[0;32m/opt/conda/lib/python3.7/http/client.py\u001b[0m in \u001b[0;36m_send_output\u001b[0;34m(self, message_body, encode_chunked)\u001b[0m\n\u001b[1;32m   1015\u001b[0m         \u001b[0;32mdel\u001b[0m \u001b[0mself\u001b[0m\u001b[0;34m.\u001b[0m\u001b[0m_buffer\u001b[0m\u001b[0;34m[\u001b[0m\u001b[0;34m:\u001b[0m\u001b[0;34m]\u001b[0m\u001b[0;34m\u001b[0m\u001b[0;34m\u001b[0m\u001b[0m\n\u001b[0;32m-> 1016\u001b[0;31m         \u001b[0mself\u001b[0m\u001b[0;34m.\u001b[0m\u001b[0msend\u001b[0m\u001b[0;34m(\u001b[0m\u001b[0mmsg\u001b[0m\u001b[0;34m)\u001b[0m\u001b[0;34m\u001b[0m\u001b[0;34m\u001b[0m\u001b[0m\n\u001b[0m\u001b[1;32m   1017\u001b[0m \u001b[0;34m\u001b[0m\u001b[0m\n",
      "\u001b[0;32m/opt/conda/lib/python3.7/http/client.py\u001b[0m in \u001b[0;36msend\u001b[0;34m(self, data)\u001b[0m\n\u001b[1;32m    955\u001b[0m             \u001b[0;32mif\u001b[0m \u001b[0mself\u001b[0m\u001b[0;34m.\u001b[0m\u001b[0mauto_open\u001b[0m\u001b[0;34m:\u001b[0m\u001b[0;34m\u001b[0m\u001b[0;34m\u001b[0m\u001b[0m\n\u001b[0;32m--> 956\u001b[0;31m                 \u001b[0mself\u001b[0m\u001b[0;34m.\u001b[0m\u001b[0mconnect\u001b[0m\u001b[0;34m(\u001b[0m\u001b[0;34m)\u001b[0m\u001b[0;34m\u001b[0m\u001b[0;34m\u001b[0m\u001b[0m\n\u001b[0m\u001b[1;32m    957\u001b[0m             \u001b[0;32melse\u001b[0m\u001b[0;34m:\u001b[0m\u001b[0;34m\u001b[0m\u001b[0;34m\u001b[0m\u001b[0m\n",
      "\u001b[0;32m/opt/conda/lib/python3.7/site-packages/urllib3/connection.py\u001b[0m in \u001b[0;36mconnect\u001b[0;34m(self)\u001b[0m\n\u001b[1;32m    182\u001b[0m     \u001b[0;32mdef\u001b[0m \u001b[0mconnect\u001b[0m\u001b[0;34m(\u001b[0m\u001b[0mself\u001b[0m\u001b[0;34m)\u001b[0m\u001b[0;34m:\u001b[0m\u001b[0;34m\u001b[0m\u001b[0;34m\u001b[0m\u001b[0m\n\u001b[0;32m--> 183\u001b[0;31m         \u001b[0mconn\u001b[0m \u001b[0;34m=\u001b[0m \u001b[0mself\u001b[0m\u001b[0;34m.\u001b[0m\u001b[0m_new_conn\u001b[0m\u001b[0;34m(\u001b[0m\u001b[0;34m)\u001b[0m\u001b[0;34m\u001b[0m\u001b[0;34m\u001b[0m\u001b[0m\n\u001b[0m\u001b[1;32m    184\u001b[0m         \u001b[0mself\u001b[0m\u001b[0;34m.\u001b[0m\u001b[0m_prepare_conn\u001b[0m\u001b[0;34m(\u001b[0m\u001b[0mconn\u001b[0m\u001b[0;34m)\u001b[0m\u001b[0;34m\u001b[0m\u001b[0;34m\u001b[0m\u001b[0m\n",
      "\u001b[0;32m/opt/conda/lib/python3.7/site-packages/urllib3/connection.py\u001b[0m in \u001b[0;36m_new_conn\u001b[0;34m(self)\u001b[0m\n\u001b[1;32m    168\u001b[0m             raise NewConnectionError(\n\u001b[0;32m--> 169\u001b[0;31m                 self, \"Failed to establish a new connection: %s\" % e)\n\u001b[0m\u001b[1;32m    170\u001b[0m \u001b[0;34m\u001b[0m\u001b[0m\n",
      "\u001b[0;31mNewConnectionError\u001b[0m: <urllib3.connection.HTTPConnection object at 0x7fbc62c3ec18>: Failed to establish a new connection: [Errno 111] Connection refused",
      "\nDuring handling of the above exception, another exception occurred:\n",
      "\u001b[0;31mMaxRetryError\u001b[0mTraceback (most recent call last)",
      "\u001b[0;32m/opt/conda/lib/python3.7/site-packages/requests/adapters.py\u001b[0m in \u001b[0;36msend\u001b[0;34m(self, request, stream, timeout, verify, cert, proxies)\u001b[0m\n\u001b[1;32m    448\u001b[0m                     \u001b[0mretries\u001b[0m\u001b[0;34m=\u001b[0m\u001b[0mself\u001b[0m\u001b[0;34m.\u001b[0m\u001b[0mmax_retries\u001b[0m\u001b[0;34m,\u001b[0m\u001b[0;34m\u001b[0m\u001b[0;34m\u001b[0m\u001b[0m\n\u001b[0;32m--> 449\u001b[0;31m                     \u001b[0mtimeout\u001b[0m\u001b[0;34m=\u001b[0m\u001b[0mtimeout\u001b[0m\u001b[0;34m\u001b[0m\u001b[0;34m\u001b[0m\u001b[0m\n\u001b[0m\u001b[1;32m    450\u001b[0m                 )\n",
      "\u001b[0;32m/opt/conda/lib/python3.7/site-packages/urllib3/connectionpool.py\u001b[0m in \u001b[0;36murlopen\u001b[0;34m(self, method, url, body, headers, retries, redirect, assert_same_host, timeout, pool_timeout, release_conn, chunked, body_pos, **response_kw)\u001b[0m\n\u001b[1;32m    640\u001b[0m             retries = retries.increment(method, url, error=e, _pool=self,\n\u001b[0;32m--> 641\u001b[0;31m                                         _stacktrace=sys.exc_info()[2])\n\u001b[0m\u001b[1;32m    642\u001b[0m             \u001b[0mretries\u001b[0m\u001b[0;34m.\u001b[0m\u001b[0msleep\u001b[0m\u001b[0;34m(\u001b[0m\u001b[0;34m)\u001b[0m\u001b[0;34m\u001b[0m\u001b[0;34m\u001b[0m\u001b[0m\n",
      "\u001b[0;32m/opt/conda/lib/python3.7/site-packages/urllib3/util/retry.py\u001b[0m in \u001b[0;36mincrement\u001b[0;34m(self, method, url, response, error, _pool, _stacktrace)\u001b[0m\n\u001b[1;32m    398\u001b[0m         \u001b[0;32mif\u001b[0m \u001b[0mnew_retry\u001b[0m\u001b[0;34m.\u001b[0m\u001b[0mis_exhausted\u001b[0m\u001b[0;34m(\u001b[0m\u001b[0;34m)\u001b[0m\u001b[0;34m:\u001b[0m\u001b[0;34m\u001b[0m\u001b[0;34m\u001b[0m\u001b[0m\n\u001b[0;32m--> 399\u001b[0;31m             \u001b[0;32mraise\u001b[0m \u001b[0mMaxRetryError\u001b[0m\u001b[0;34m(\u001b[0m\u001b[0m_pool\u001b[0m\u001b[0;34m,\u001b[0m \u001b[0murl\u001b[0m\u001b[0;34m,\u001b[0m \u001b[0merror\u001b[0m \u001b[0;32mor\u001b[0m \u001b[0mResponseError\u001b[0m\u001b[0;34m(\u001b[0m\u001b[0mcause\u001b[0m\u001b[0;34m)\u001b[0m\u001b[0;34m)\u001b[0m\u001b[0;34m\u001b[0m\u001b[0;34m\u001b[0m\u001b[0m\n\u001b[0m\u001b[1;32m    400\u001b[0m \u001b[0;34m\u001b[0m\u001b[0m\n",
      "\u001b[0;31mMaxRetryError\u001b[0m: HTTPConnectionPool(host='localhost', port=5000): Max retries exceeded with url: /recipe?query=Coffee%20Mocha,mashed%20sweet%20potato,Pasta%20Salads,earl%20grey%20tea,chicken%20salad%20sandwich,Peanut%20Bar,%20Fresh%20Roasted,balsamic%20dressing,Maple%20Almond%20Butter,Maple%20Pecan%20Granola%20Cereal,Spaghetti,Mushroom%20&%20Truffle%20Italian%20Flatbread%20Pizza,country%20crock,grape,Roasted%20&%20Salted%20Shelled%20Pistachios,Gourmet%20Popcorn,Hook%20&%20Ladder%20-%20Medium,Tortilla%20Chips,%20Blue%20Chips,Pumpkin%20spice%20cake,Shells%20&%20White%20Cheddar,Dip,%20French%20Onion,Challah,nectarines,low%20fat%20milk,toast%20with%20jam,pulled%20pork,vegetable%20medley,fresh%20squeezed%20juice,Greek%20Dressing,dutch%20baby,jelly%20belly,Cheese%20Stick,%20Wisconsin%20Sharp%20Cheddar%20Natural,Napa%20Cabbage%20Kimchi,%20Classic,wild%20rice,gingerbread%20cookies,chick%20fil%20a%20grilled%20nuggets%208%20count,frozen%20mixed%20vegetables,canned%20peaches,Strawberry%20Non-fat%20Yogurt,diet%20mountain%20dew,romaine,corn%20canned,Tropical%20Punch,Shells%20&%20Cheese,%20Jumbo%20Shells,%20Original,pink%20lady%20apple,100%25%20Cranberry%20Juice,corn%20salsa,whole%20wheat%20roll,Weekday%20breakfast,cheese%20quesadia,cherry%20tomatoes,roasted%20pumpkin%20seeds,steamed%20shrimp%20dumpling,Yogurt%20topping,mixed%20green%20salad,oatmeal%20cookie,pork%20roast,carnitas%20taco,mozzarella,Arnold%20Palmer,Tomato%20Avocado%20Salad,Protein%20Smoothie,honey%20roasted%20turkey,ziti%20pasta,Moroccan%20Lamb%20Stew%20with%20Couscous,bigmac,taco%20meat,macaroni%20cheese,Lemonade,%20Small,low%20fat%20cream%20cheese,fish%20tacos,Diced%20Potatoes%20with%20Onions,mushroom%20spinach%20pizza,Egg%20Scramble,steel%20cut%20oatmeal,grated%20parmesan,Honeycrisp%20Apple%20Cider%20Blend,Sprouted%20Whole%20Grain%20Bread,Pistachio,Peanut%20Butter%20Tree,%20Milk%20Chocolate,Sliced%20Apples,cilantro%20sauce,Organic%20Bratwurst%20Chicken%20Sausage,swedish%20meatballs,grits%20dry,chili%20sauce,white%20fish,Nutty%20Bars,Fat%20Free%20Balsamic%20Vinaigrette%20Dressing,jalapeno,Stuffing,%20Cornbread,apple%20cider%20vinegar,Peach%20Blueberry%20Pie,iced%20tea,Seasoned%20Collard%20Greens,corn%20tortillas,This%20Cranberry%20Walks%20into%20a%20Bar%20Cereal%20Bars,Whole%20Grains%20Bread,almond,chicken%20boneless%20skinless,blackberry%20jelly&number=10 (Caused by NewConnectionError('<urllib3.connection.HTTPConnection object at 0x7fbc62c3ec18>: Failed to establish a new connection: [Errno 111] Connection refused'))",
      "\nDuring handling of the above exception, another exception occurred:\n",
      "\u001b[0;31mConnectionError\u001b[0mTraceback (most recent call last)",
      "\u001b[0;32m<ipython-input-6-545fd9e9ab25>\u001b[0m in \u001b[0;36m<module>\u001b[0;34m\u001b[0m\n\u001b[0;32m----> 1\u001b[0;31m \u001b[0mcorpus\u001b[0m \u001b[0;34m=\u001b[0m \u001b[0mget_corpus\u001b[0m\u001b[0;34m(\u001b[0m\u001b[0;34m)\u001b[0m\u001b[0;34m\u001b[0m\u001b[0;34m\u001b[0m\u001b[0m\n\u001b[0m",
      "\u001b[0;32m<ipython-input-5-2bce68ec4e8d>\u001b[0m in \u001b[0;36mget_corpus\u001b[0;34m()\u001b[0m\n\u001b[1;32m     44\u001b[0m     \u001b[0ma\u001b[0m \u001b[0;34m=\u001b[0m \u001b[0;36m0\u001b[0m\u001b[0;34m\u001b[0m\u001b[0;34m\u001b[0m\u001b[0m\n\u001b[1;32m     45\u001b[0m     \u001b[0;32mfor\u001b[0m \u001b[0mstring\u001b[0m \u001b[0;32min\u001b[0m \u001b[0mstrings\u001b[0m\u001b[0;34m:\u001b[0m\u001b[0;34m\u001b[0m\u001b[0;34m\u001b[0m\u001b[0m\n\u001b[0;32m---> 46\u001b[0;31m         \u001b[0mr\u001b[0m \u001b[0;34m=\u001b[0m \u001b[0mrequests\u001b[0m\u001b[0;34m.\u001b[0m\u001b[0mget\u001b[0m\u001b[0;34m(\u001b[0m\u001b[0mserver_name\u001b[0m\u001b[0;34m+\u001b[0m\u001b[0;34m\"/recipe?query={}&number=10\"\u001b[0m\u001b[0;34m.\u001b[0m\u001b[0mformat\u001b[0m\u001b[0;34m(\u001b[0m\u001b[0mstring\u001b[0m\u001b[0;34m)\u001b[0m\u001b[0;34m)\u001b[0m\u001b[0;34m\u001b[0m\u001b[0;34m\u001b[0m\u001b[0m\n\u001b[0m\u001b[1;32m     47\u001b[0m         \u001b[0;32mif\u001b[0m \u001b[0mr\u001b[0m\u001b[0;34m.\u001b[0m\u001b[0mstatus_code\u001b[0m \u001b[0;34m!=\u001b[0m \u001b[0;36m200\u001b[0m\u001b[0;34m:\u001b[0m\u001b[0;34m\u001b[0m\u001b[0;34m\u001b[0m\u001b[0m\n\u001b[1;32m     48\u001b[0m             \u001b[0mprint\u001b[0m\u001b[0;34m(\u001b[0m\u001b[0;34m\"Error: {} - {}\"\u001b[0m\u001b[0;34m.\u001b[0m\u001b[0mformat\u001b[0m\u001b[0;34m(\u001b[0m\u001b[0mr\u001b[0m\u001b[0;34m.\u001b[0m\u001b[0mstatus_code\u001b[0m\u001b[0;34m,\u001b[0m \u001b[0mr\u001b[0m\u001b[0;34m.\u001b[0m\u001b[0mtext\u001b[0m\u001b[0;34m)\u001b[0m\u001b[0;34m)\u001b[0m\u001b[0;34m\u001b[0m\u001b[0;34m\u001b[0m\u001b[0m\n",
      "\u001b[0;32m/opt/conda/lib/python3.7/site-packages/requests/api.py\u001b[0m in \u001b[0;36mget\u001b[0;34m(url, params, **kwargs)\u001b[0m\n\u001b[1;32m     73\u001b[0m \u001b[0;34m\u001b[0m\u001b[0m\n\u001b[1;32m     74\u001b[0m     \u001b[0mkwargs\u001b[0m\u001b[0;34m.\u001b[0m\u001b[0msetdefault\u001b[0m\u001b[0;34m(\u001b[0m\u001b[0;34m'allow_redirects'\u001b[0m\u001b[0;34m,\u001b[0m \u001b[0;32mTrue\u001b[0m\u001b[0;34m)\u001b[0m\u001b[0;34m\u001b[0m\u001b[0;34m\u001b[0m\u001b[0m\n\u001b[0;32m---> 75\u001b[0;31m     \u001b[0;32mreturn\u001b[0m \u001b[0mrequest\u001b[0m\u001b[0;34m(\u001b[0m\u001b[0;34m'get'\u001b[0m\u001b[0;34m,\u001b[0m \u001b[0murl\u001b[0m\u001b[0;34m,\u001b[0m \u001b[0mparams\u001b[0m\u001b[0;34m=\u001b[0m\u001b[0mparams\u001b[0m\u001b[0;34m,\u001b[0m \u001b[0;34m**\u001b[0m\u001b[0mkwargs\u001b[0m\u001b[0;34m)\u001b[0m\u001b[0;34m\u001b[0m\u001b[0;34m\u001b[0m\u001b[0m\n\u001b[0m\u001b[1;32m     76\u001b[0m \u001b[0;34m\u001b[0m\u001b[0m\n\u001b[1;32m     77\u001b[0m \u001b[0;34m\u001b[0m\u001b[0m\n",
      "\u001b[0;32m/opt/conda/lib/python3.7/site-packages/requests/api.py\u001b[0m in \u001b[0;36mrequest\u001b[0;34m(method, url, **kwargs)\u001b[0m\n\u001b[1;32m     58\u001b[0m     \u001b[0;31m# cases, and look like a memory leak in others.\u001b[0m\u001b[0;34m\u001b[0m\u001b[0;34m\u001b[0m\u001b[0;34m\u001b[0m\u001b[0m\n\u001b[1;32m     59\u001b[0m     \u001b[0;32mwith\u001b[0m \u001b[0msessions\u001b[0m\u001b[0;34m.\u001b[0m\u001b[0mSession\u001b[0m\u001b[0;34m(\u001b[0m\u001b[0;34m)\u001b[0m \u001b[0;32mas\u001b[0m \u001b[0msession\u001b[0m\u001b[0;34m:\u001b[0m\u001b[0;34m\u001b[0m\u001b[0;34m\u001b[0m\u001b[0m\n\u001b[0;32m---> 60\u001b[0;31m         \u001b[0;32mreturn\u001b[0m \u001b[0msession\u001b[0m\u001b[0;34m.\u001b[0m\u001b[0mrequest\u001b[0m\u001b[0;34m(\u001b[0m\u001b[0mmethod\u001b[0m\u001b[0;34m=\u001b[0m\u001b[0mmethod\u001b[0m\u001b[0;34m,\u001b[0m \u001b[0murl\u001b[0m\u001b[0;34m=\u001b[0m\u001b[0murl\u001b[0m\u001b[0;34m,\u001b[0m \u001b[0;34m**\u001b[0m\u001b[0mkwargs\u001b[0m\u001b[0;34m)\u001b[0m\u001b[0;34m\u001b[0m\u001b[0;34m\u001b[0m\u001b[0m\n\u001b[0m\u001b[1;32m     61\u001b[0m \u001b[0;34m\u001b[0m\u001b[0m\n\u001b[1;32m     62\u001b[0m \u001b[0;34m\u001b[0m\u001b[0m\n",
      "\u001b[0;32m/opt/conda/lib/python3.7/site-packages/requests/sessions.py\u001b[0m in \u001b[0;36mrequest\u001b[0;34m(self, method, url, params, data, headers, cookies, files, auth, timeout, allow_redirects, proxies, hooks, stream, verify, cert, json)\u001b[0m\n\u001b[1;32m    531\u001b[0m         }\n\u001b[1;32m    532\u001b[0m         \u001b[0msend_kwargs\u001b[0m\u001b[0;34m.\u001b[0m\u001b[0mupdate\u001b[0m\u001b[0;34m(\u001b[0m\u001b[0msettings\u001b[0m\u001b[0;34m)\u001b[0m\u001b[0;34m\u001b[0m\u001b[0;34m\u001b[0m\u001b[0m\n\u001b[0;32m--> 533\u001b[0;31m         \u001b[0mresp\u001b[0m \u001b[0;34m=\u001b[0m \u001b[0mself\u001b[0m\u001b[0;34m.\u001b[0m\u001b[0msend\u001b[0m\u001b[0;34m(\u001b[0m\u001b[0mprep\u001b[0m\u001b[0;34m,\u001b[0m \u001b[0;34m**\u001b[0m\u001b[0msend_kwargs\u001b[0m\u001b[0;34m)\u001b[0m\u001b[0;34m\u001b[0m\u001b[0;34m\u001b[0m\u001b[0m\n\u001b[0m\u001b[1;32m    534\u001b[0m \u001b[0;34m\u001b[0m\u001b[0m\n\u001b[1;32m    535\u001b[0m         \u001b[0;32mreturn\u001b[0m \u001b[0mresp\u001b[0m\u001b[0;34m\u001b[0m\u001b[0;34m\u001b[0m\u001b[0m\n",
      "\u001b[0;32m/opt/conda/lib/python3.7/site-packages/requests/sessions.py\u001b[0m in \u001b[0;36msend\u001b[0;34m(self, request, **kwargs)\u001b[0m\n\u001b[1;32m    644\u001b[0m \u001b[0;34m\u001b[0m\u001b[0m\n\u001b[1;32m    645\u001b[0m         \u001b[0;31m# Send the request\u001b[0m\u001b[0;34m\u001b[0m\u001b[0;34m\u001b[0m\u001b[0;34m\u001b[0m\u001b[0m\n\u001b[0;32m--> 646\u001b[0;31m         \u001b[0mr\u001b[0m \u001b[0;34m=\u001b[0m \u001b[0madapter\u001b[0m\u001b[0;34m.\u001b[0m\u001b[0msend\u001b[0m\u001b[0;34m(\u001b[0m\u001b[0mrequest\u001b[0m\u001b[0;34m,\u001b[0m \u001b[0;34m**\u001b[0m\u001b[0mkwargs\u001b[0m\u001b[0;34m)\u001b[0m\u001b[0;34m\u001b[0m\u001b[0;34m\u001b[0m\u001b[0m\n\u001b[0m\u001b[1;32m    647\u001b[0m \u001b[0;34m\u001b[0m\u001b[0m\n\u001b[1;32m    648\u001b[0m         \u001b[0;31m# Total elapsed time of the request (approximately)\u001b[0m\u001b[0;34m\u001b[0m\u001b[0;34m\u001b[0m\u001b[0;34m\u001b[0m\u001b[0m\n",
      "\u001b[0;32m/opt/conda/lib/python3.7/site-packages/requests/adapters.py\u001b[0m in \u001b[0;36msend\u001b[0;34m(self, request, stream, timeout, verify, cert, proxies)\u001b[0m\n\u001b[1;32m    514\u001b[0m                 \u001b[0;32mraise\u001b[0m \u001b[0mSSLError\u001b[0m\u001b[0;34m(\u001b[0m\u001b[0me\u001b[0m\u001b[0;34m,\u001b[0m \u001b[0mrequest\u001b[0m\u001b[0;34m=\u001b[0m\u001b[0mrequest\u001b[0m\u001b[0;34m)\u001b[0m\u001b[0;34m\u001b[0m\u001b[0;34m\u001b[0m\u001b[0m\n\u001b[1;32m    515\u001b[0m \u001b[0;34m\u001b[0m\u001b[0m\n\u001b[0;32m--> 516\u001b[0;31m             \u001b[0;32mraise\u001b[0m \u001b[0mConnectionError\u001b[0m\u001b[0;34m(\u001b[0m\u001b[0me\u001b[0m\u001b[0;34m,\u001b[0m \u001b[0mrequest\u001b[0m\u001b[0;34m=\u001b[0m\u001b[0mrequest\u001b[0m\u001b[0;34m)\u001b[0m\u001b[0;34m\u001b[0m\u001b[0;34m\u001b[0m\u001b[0m\n\u001b[0m\u001b[1;32m    517\u001b[0m \u001b[0;34m\u001b[0m\u001b[0m\n\u001b[1;32m    518\u001b[0m         \u001b[0;32mexcept\u001b[0m \u001b[0mClosedPoolError\u001b[0m \u001b[0;32mas\u001b[0m \u001b[0me\u001b[0m\u001b[0;34m:\u001b[0m\u001b[0;34m\u001b[0m\u001b[0;34m\u001b[0m\u001b[0m\n",
      "\u001b[0;31mConnectionError\u001b[0m: HTTPConnectionPool(host='localhost', port=5000): Max retries exceeded with url: /recipe?query=Coffee%20Mocha,mashed%20sweet%20potato,Pasta%20Salads,earl%20grey%20tea,chicken%20salad%20sandwich,Peanut%20Bar,%20Fresh%20Roasted,balsamic%20dressing,Maple%20Almond%20Butter,Maple%20Pecan%20Granola%20Cereal,Spaghetti,Mushroom%20&%20Truffle%20Italian%20Flatbread%20Pizza,country%20crock,grape,Roasted%20&%20Salted%20Shelled%20Pistachios,Gourmet%20Popcorn,Hook%20&%20Ladder%20-%20Medium,Tortilla%20Chips,%20Blue%20Chips,Pumpkin%20spice%20cake,Shells%20&%20White%20Cheddar,Dip,%20French%20Onion,Challah,nectarines,low%20fat%20milk,toast%20with%20jam,pulled%20pork,vegetable%20medley,fresh%20squeezed%20juice,Greek%20Dressing,dutch%20baby,jelly%20belly,Cheese%20Stick,%20Wisconsin%20Sharp%20Cheddar%20Natural,Napa%20Cabbage%20Kimchi,%20Classic,wild%20rice,gingerbread%20cookies,chick%20fil%20a%20grilled%20nuggets%208%20count,frozen%20mixed%20vegetables,canned%20peaches,Strawberry%20Non-fat%20Yogurt,diet%20mountain%20dew,romaine,corn%20canned,Tropical%20Punch,Shells%20&%20Cheese,%20Jumbo%20Shells,%20Original,pink%20lady%20apple,100%25%20Cranberry%20Juice,corn%20salsa,whole%20wheat%20roll,Weekday%20breakfast,cheese%20quesadia,cherry%20tomatoes,roasted%20pumpkin%20seeds,steamed%20shrimp%20dumpling,Yogurt%20topping,mixed%20green%20salad,oatmeal%20cookie,pork%20roast,carnitas%20taco,mozzarella,Arnold%20Palmer,Tomato%20Avocado%20Salad,Protein%20Smoothie,honey%20roasted%20turkey,ziti%20pasta,Moroccan%20Lamb%20Stew%20with%20Couscous,bigmac,taco%20meat,macaroni%20cheese,Lemonade,%20Small,low%20fat%20cream%20cheese,fish%20tacos,Diced%20Potatoes%20with%20Onions,mushroom%20spinach%20pizza,Egg%20Scramble,steel%20cut%20oatmeal,grated%20parmesan,Honeycrisp%20Apple%20Cider%20Blend,Sprouted%20Whole%20Grain%20Bread,Pistachio,Peanut%20Butter%20Tree,%20Milk%20Chocolate,Sliced%20Apples,cilantro%20sauce,Organic%20Bratwurst%20Chicken%20Sausage,swedish%20meatballs,grits%20dry,chili%20sauce,white%20fish,Nutty%20Bars,Fat%20Free%20Balsamic%20Vinaigrette%20Dressing,jalapeno,Stuffing,%20Cornbread,apple%20cider%20vinegar,Peach%20Blueberry%20Pie,iced%20tea,Seasoned%20Collard%20Greens,corn%20tortillas,This%20Cranberry%20Walks%20into%20a%20Bar%20Cereal%20Bars,Whole%20Grains%20Bread,almond,chicken%20boneless%20skinless,blackberry%20jelly&number=10 (Caused by NewConnectionError('<urllib3.connection.HTTPConnection object at 0x7fbc62c3ec18>: Failed to establish a new connection: [Errno 111] Connection refused'))"
     ]
    }
   ],
   "source": [
    "corpus = get_corpus()"
   ]
  },
  {
   "cell_type": "code",
   "execution_count": 17,
   "metadata": {},
   "outputs": [],
   "source": [
    "# Save to JSON so that we don't have to query again\n",
    "my_json = json.dumps(corpus)\n",
    "with open(\"corpus.json\", \"w\") as f:\n",
    "    json.dump(my_json, f)"
   ]
  },
  {
   "cell_type": "markdown",
   "metadata": {},
   "source": [
    "### Call load corpus.json if already ran get_corpus(), make vocab"
   ]
  },
  {
   "cell_type": "code",
   "execution_count": 2,
   "metadata": {
    "scrolled": true
   },
   "outputs": [
    {
     "name": "stdout",
     "output_type": "stream",
     "text": [
      "<class 'list'>\n"
     ]
    }
   ],
   "source": [
    "with open(\"corpus0-50_3.json\", \"r\") as f:\n",
    "    corpus = json.load(f)\n",
    "corpus=json.loads(corpus)\n",
    "print(type(corpus))"
   ]
  },
  {
   "cell_type": "code",
   "execution_count": 3,
   "metadata": {},
   "outputs": [],
   "source": [
    "words = []\n",
    "for response in corpus: # for query word response\n",
    "    for query in response:\n",
    "        if query[\"corpus\"] == \"\":\n",
    "            continue\n",
    "        else:\n",
    "            paragraph = query[\"corpus\"].lower()\n",
    "            sentences = re.split(r\"[.!?]\", paragraph)\n",
    "            for sentence in sentences: \n",
    "                sentence = sentence.replace(\",\", \"\")\n",
    "                nltk_tokens = word_tokenize(sentence)\n",
    "                nltk_tokens = [word for word in nltk_tokens if len(word)>1 and word.isalpha()]\n",
    "                words.extend(nltk_tokens)"
   ]
  },
  {
   "cell_type": "code",
   "execution_count": 4,
   "metadata": {},
   "outputs": [
    {
     "name": "stdout",
     "output_type": "stream",
     "text": [
      "1788\n"
     ]
    }
   ],
   "source": [
    "vocab = set(words)\n",
    "char_to_int = dict((c,i) for i,c in enumerate(vocab))\n",
    "int_to_char = dict((i,c) for i,c in enumerate(vocab))\n",
    "print(len(vocab))"
   ]
  },
  {
   "cell_type": "markdown",
   "metadata": {},
   "source": [
    "### Context"
   ]
  },
  {
   "cell_type": "code",
   "execution_count": 5,
   "metadata": {},
   "outputs": [],
   "source": [
    "X = []\n",
    "Y = []\n",
    "temp_dict = []\n",
    "window_size = 5\n",
    "for i in range(len(words)):\n",
    "    a = i-window_size\n",
    "    b= i+window_size\n",
    "    curr_word = words[i]\n",
    "    for z in range(a,i):\n",
    "        if z >=0:\n",
    "            temp_dict.append((curr_word,words[z]))\n",
    "    for z in range(i+1,b):\n",
    "        if z<len(vocab):\n",
    "            temp_dict.append((curr_word,words[z]))\n",
    "for pair in temp_dict:\n",
    "    tempx = np.zeros(len(vocab))\n",
    "    tempy = np.zeros(len(vocab))\n",
    "    tempx[char_to_int[pair[0]]] = 1\n",
    "    tempy[char_to_int[pair[1]]] = 1\n",
    "    X.append(tempx)\n",
    "    Y.append(tempy)"
   ]
  },
  {
   "cell_type": "markdown",
   "metadata": {},
   "source": [
    "### Embeddings and Weight Updating"
   ]
  },
  {
   "cell_type": "code",
   "execution_count": 6,
   "metadata": {},
   "outputs": [
    {
     "name": "stdout",
     "output_type": "stream",
     "text": [
      "WARNING:tensorflow:From C:\\Users\\Owner\\AppData\\Roaming\\Python\\Python37\\site-packages\\tensorflow_core\\python\\ops\\resource_variable_ops.py:1635: calling BaseResourceVariable.__init__ (from tensorflow.python.ops.resource_variable_ops) with constraint is deprecated and will be removed in a future version.\n",
      "Instructions for updating:\n",
      "If using Keras pass *_constraint arguments to layers.\n",
      "(None, 1788)\n",
      "(None, 1788)\n"
     ]
    }
   ],
   "source": [
    "embedding_size = 100\n",
    "batch_size = 64\n",
    "epochs = 100 \n",
    "n_batches = int(len(X)/batch_size)\n",
    "learning_rate= 0.001\n",
    "x = tf.placeholder(tf.float32,shape = (None,len(vocab)))\n",
    "y = tf.placeholder(tf.float32,shape = (None,len(vocab)))\n",
    "w1 = tf.Variable(tf.random_normal([len(vocab),embedding_size]),dtype = tf.float32)\n",
    "b1 = tf.Variable(tf.random_normal([embedding_size]),dtype = tf.float32)\n",
    "w2 = tf.Variable(tf.random_normal([embedding_size,len(vocab)]),dtype = tf.float32)\n",
    "b2 = tf.Variable(tf.random_normal([len(vocab)]),dtype = tf.float32)\n",
    "hidden_y = tf.matmul(x,w1) + b1\n",
    "y_pred = tf.matmul(hidden_y,w2) + b2\n",
    "#print(b.dtype)\n",
    "#_y = tf.matmul(x,w)\n",
    "cost = tf.reduce_mean(tf.losses.mean_squared_error(y_pred,y))\n",
    "optimizer = tf.train.AdamOptimizer(learning_rate).minimize(cost)\n",
    "print(y.shape)\n",
    "print(y_pred.shape)\n",
    "init = tf.global_variables_initializer()\n",
    "init_l = tf.local_variables_initializer()\n",
    "saver = tf.train.Saver()\n",
    "gpu_options = tf.GPUOptions(per_process_gpu_memory_fraction = 0.33)\n",
    "sess = tf.Session(config = tf.ConfigProto(gpu_options = gpu_options))\n",
    "sess.run(init)"
   ]
  },
  {
   "cell_type": "markdown",
   "metadata": {},
   "source": [
    "### Train"
   ]
  },
  {
   "cell_type": "code",
   "execution_count": 7,
   "metadata": {},
   "outputs": [
    {
     "name": "stdout",
     "output_type": "stream",
     "text": [
      "Epoch 0  -  59.69668792391576\n",
      "Epoch 1  -  15.784878812139024\n",
      "Epoch 2  -  5.237910954488652\n",
      "Epoch 3  -  1.7434379423421558\n",
      "Epoch 4  -  0.5692327249179262\n",
      "Epoch 5  -  0.18101631107151228\n",
      "Epoch 6  -  0.056569527404717844\n",
      "Epoch 7  -  0.01797273721987575\n",
      "Epoch 8  -  0.006298177413428053\n",
      "Epoch 9  -  0.002730854804702743\n",
      "Epoch 10  -  0.0015738122582819977\n",
      "Epoch 11  -  0.0011581893826135105\n",
      "Epoch 12  -  0.0009819669629910367\n",
      "Epoch 13  -  0.000900615030861455\n",
      "Epoch 14  -  0.0008620248590694565\n",
      "Epoch 15  -  0.0008443063088980986\n",
      "Epoch 16  -  0.0008328873436853654\n",
      "Epoch 17  -  0.0008556450212068822\n",
      "Epoch 18  -  0.0008373335527721798\n",
      "Epoch 19  -  0.0008387219212535353\n",
      "Epoch 20  -  0.0008378300754225261\n",
      "Epoch 21  -  0.0008350993730817696\n",
      "Epoch 22  -  0.0008238849424136175\n",
      "Epoch 23  -  0.0008266614032441144\n",
      "Epoch 24  -  0.0008069100604631577\n",
      "Epoch 25  -  0.0008313968465059855\n",
      "Epoch 26  -  0.0008051352489187766\n",
      "Epoch 27  -  0.0008120740096456826\n",
      "Epoch 28  -  0.0007955922042364607\n",
      "Epoch 29  -  0.000810164707976459\n",
      "Epoch 30  -  0.0008014394345486322\n",
      "Epoch 31  -  0.0007953722216250482\n",
      "Epoch 32  -  0.0007660332039767318\n",
      "Epoch 33  -  0.0007842918500678724\n",
      "Epoch 34  -  0.0007717504996372759\n",
      "Epoch 35  -  0.0007668011959472172\n",
      "Epoch 36  -  0.0007581612327143485\n",
      "Epoch 37  -  0.0007604943280091009\n",
      "Epoch 38  -  0.0007398191828677363\n",
      "Epoch 39  -  0.0007474564166466108\n",
      "Epoch 40  -  0.0007465179424447125\n",
      "Epoch 41  -  0.0007475680275265827\n",
      "Epoch 42  -  0.0007320041305979311\n",
      "Epoch 43  -  0.0007372535527412793\n",
      "Epoch 44  -  0.0007285049780784413\n",
      "Epoch 45  -  0.0007339354394750294\n",
      "Epoch 46  -  0.0007255706897623857\n",
      "Epoch 47  -  0.0007242241249451767\n",
      "Epoch 48  -  0.0007152077208196746\n",
      "Epoch 49  -  0.0007199416082431225\n",
      "Epoch 50  -  0.000712056602437601\n",
      "Epoch 51  -  0.0007168919909018636\n",
      "Epoch 52  -  0.0007103326270928394\n",
      "Epoch 53  -  0.0007086801154800147\n",
      "Epoch 54  -  0.000701767893011618\n",
      "Epoch 55  -  0.0007018766934470954\n",
      "Epoch 56  -  0.0006950488133250026\n",
      "Epoch 57  -  0.0006982652879155014\n",
      "Epoch 58  -  0.0006986617589881891\n",
      "Epoch 59  -  0.0006960865895192414\n",
      "Epoch 60  -  0.0006907047548949729\n",
      "Epoch 61  -  0.0006897788812041716\n",
      "Epoch 62  -  0.0006868989305403171\n",
      "Epoch 63  -  0.0006850011415456818\n",
      "Epoch 64  -  0.0006860710492926755\n",
      "Epoch 65  -  0.0006786696200453658\n",
      "Epoch 66  -  0.0006790641609335409\n",
      "Epoch 67  -  0.0006780834653890306\n",
      "Epoch 68  -  0.0006789979068180499\n",
      "Epoch 69  -  0.0006752046745667157\n",
      "Epoch 70  -  0.0006715066932701055\n",
      "Epoch 71  -  0.0006720197808968215\n",
      "Epoch 72  -  0.0006685861218203276\n",
      "Epoch 73  -  0.0006709446234655675\n",
      "Epoch 74  -  0.0006675063891745321\n",
      "Epoch 75  -  0.0006653924718087732\n",
      "Epoch 76  -  0.0006605249434147785\n",
      "Epoch 77  -  0.0006597745431545222\n",
      "Epoch 78  -  0.000659872436767848\n",
      "Epoch 79  -  0.0006613565136114315\n",
      "Epoch 80  -  0.0006644366363558673\n",
      "Epoch 81  -  0.0006554672189017441\n",
      "Epoch 82  -  0.0006543331084435388\n",
      "Epoch 83  -  0.0006523021613863656\n",
      "Epoch 84  -  0.0006526703809858583\n",
      "Epoch 85  -  0.0006514836768262472\n",
      "Epoch 86  -  0.0006521413084575368\n",
      "Epoch 87  -  0.0006502290129742871\n",
      "Epoch 88  -  0.0006502702729049661\n",
      "Epoch 89  -  0.0006404908873182705\n",
      "Epoch 90  -  0.0006489207238826175\n",
      "Epoch 91  -  0.0006406606816213634\n",
      "Epoch 92  -  0.0006439171107818498\n",
      "Epoch 93  -  0.0006425108180674563\n",
      "Epoch 94  -  0.0006434529725026103\n",
      "Epoch 95  -  0.0006390101073073248\n",
      "Epoch 96  -  0.000637825029790057\n",
      "Epoch 97  -  0.0006388117093592868\n",
      "Epoch 98  -  0.000635226843595287\n",
      "Epoch 99  -  0.0006340456062437536\n"
     ]
    }
   ],
   "source": [
    "for epoch in range(100):\n",
    "    avg_cost = 0\n",
    "    for i in range(n_batches-1):\n",
    "        batch_x = X[i*batch_size:(i+1)*batch_size]\n",
    "        batch_y = Y[i*batch_size:(i+1)*batch_size]\n",
    "        #print(batch_x.shape)\n",
    "        _,c = sess.run([optimizer,cost],feed_dict = {x:batch_x,y:batch_y})\n",
    "        #print(test.shape)\n",
    "        \n",
    "        avg_cost += c/n_batches\n",
    "    print('Epoch',epoch,' - ',avg_cost)"
   ]
  },
  {
   "cell_type": "markdown",
   "metadata": {},
   "source": [
    "### Get all the words embedded"
   ]
  },
  {
   "cell_type": "code",
   "execution_count": 8,
   "metadata": {},
   "outputs": [],
   "source": [
    "embeddings = dict()\n",
    "for i in vocab:\n",
    "    temp_a = np.zeros([1,len(vocab)])\n",
    "    temp_a[0][char_to_int[i]] = 1\n",
    "    temp_emb = sess.run([y_pred],feed_dict = {x:temp_a})\n",
    "    temp_emb = np.array(temp_emb)\n",
    "    #print(temp_emb.shape)\n",
    "    embeddings[i] = temp_emb.reshape([len(vocab)])\n",
    "    #print(embeddings[i].shape)"
   ]
  },
  {
   "cell_type": "markdown",
   "metadata": {},
   "source": [
    "### Find the closest words"
   ]
  },
  {
   "cell_type": "code",
   "execution_count": 26,
   "metadata": {},
   "outputs": [],
   "source": [
    "def closest(word,n):\n",
    "    distances = dict()\n",
    "    for w in embeddings.keys():\n",
    "        distances[w] = spatial.distance.cosine(embeddings[w],embeddings[word])\n",
    "    d_sorted = OrderedDict(sorted(distances.items(),key = lambda x:x[1] ,reverse = False))\n",
    "    s_words = [key for key in d_sorted.keys()]\n",
    "    print(s_words[:n])\n",
    "    return s_words[:n]"
   ]
  },
  {
   "cell_type": "code",
   "execution_count": 81,
   "metadata": {},
   "outputs": [
    {
     "name": "stdout",
     "output_type": "stream",
     "text": [
      "['mushroom', 'edamame', 'attachment', 'asian', 'turn', 'roasting', 'tastes', 'hindsight', 'lift', 'wheat', 'wont', 'discarding', 'flowed', 'wo', 'full', 'unless', 'flatten', 'possible', 'stems', 'hard', 'hedi', 'proportioned', 'popsicle', 'spring', 'lower', 'fresh', 'lit', 'crumbles', 'nullpear', 'meatball', 'ranchera', 'skewer', 'cling', 'freeze', 'saturated', 'pudding', 'toasted', 'sauteed', 'lifted', 'missed', 'scooping', 'pappardelle', 'save', 'row', 'processing', 'eye', 'equally', 'buttery', 'dijon', 'especially']\n",
      "['cake', 'searching', 'lemon', 'as', 'cover', 'could', 'remaining', 'batter', 'sauce', 'banana', 'vegetables', 'over', 'butter', 'coffee', 'syrup', 'eggs', 'flour', 'medium', 'low', 'sugar', 'follow', 'pan', 'cream', 'small', 'bowl', 'then', 'they', 'meanwhile', 'fold', 'pepper', 'cocoa', 'heat', 'salt', 'are', 'together', 'water', 'wine', 'sweet', 'time', 'parmesan', 'dessert', 'food', 'juice', 'evenly', 'refrigerator', 'white', 'at', 'powder', 'baking', 'yogurt']\n",
      "['sushi', 'instant', 'pancetta', 'information', 'ahead', 'makimono', 'paddle', 'pecorino', 'days', 'paring', 'annual', 'steaks', 'tip', 'halfway', 'coco', 'pat', 'dried', 'freshly', 'curry', 'christmasannual', 'leg', 'thickened', 'trail', 'subsides', 'reaches', 'vinaigrette', 'snacking', 'tempeh', 'burger', 'cheesecake', 'yolk', 'way', 'cigar', 'cedar', 'kernals', 'basil', 'what', 'weekly', 'plum', 'had', 'demerara', 'vietnamese', 'assemble', 'enough', 'bed', 'needed', 'romano', 'been', 'enjoyed', 'boils']\n",
      "['processing', 'had', 'unless', 'scooping', 'plum', 'meatball', 'trail', 'wont', 'banana', 'medium', 'sauce', 'proportioned', 'kernals', 'paring', 'thickened', 'vinaigrette', 'days', 'syrup', 'they', 'pancetta', 'coffee', 'heat', 'pan', 'salt', 'time', 'basil', 'assemble', 'especially', 'popsicle', 'low', 'fold', 'coco', 'edamame', 'sugar', 'sweet', 'nullpear', 'steaks', 'save', 'mushroom', 'bed', 'small', 'water', 'follow', 'flour', 'row', 'over', 'are', 'wo', 'leg', 'vietnamese', 'white', 'enjoyed', 'boils', 'eye', 'meanwhile', 'flatten', 'lift', 'skewer', 'cedar', 'what', 'missed', 'dessert', 'hindsight', 'tip', 'searching', 'pudding', 'halfway', 'dijon', 'pecorino', 'flowed', 'been', 'baking', 'instant', 'turn', 'lit', 'yogurt', 'cover', 'possible', 'christmasannual', 'demerara', 'yolk', 'asian', 'butter', 'subsides', 'cocoa', 'parmesan', 'cheesecake', 'wine', 'food', 'hedi', 'at', 'cake', 'lower', 'cigar', 'information', 'freeze', 'as', 'roasting', 'way', 'spring', 'snacking', 'curry', 'crumbles', 'sushi', 'cream', 'sauteed', 'then', 'fresh', 'saturated', 'full', 'burger', 'discarding', 'hard', 'pepper', 'freshly', 'buttery', 'tempeh', 'remaining', 'toasted', 'juice', 'eggs', 'annual', 'batter', 'dried', 'pat', 'equally', 'cling', 'vegetables', 'makimono', 'ranchera', 'attachment', 'wheat', 'evenly', 'together', 'romano', 'lifted', 'powder', 'ahead', 'refrigerator', 'enough', 'paddle', 'stems', 'pappardelle', 'weekly', 'reaches', 'bowl', 'needed', 'tastes', 'could', 'lemon']\n"
     ]
    }
   ],
   "source": [
    "closest_words = closest(\"mushroom\",50)\n",
    "closest_words2 = closest(\"cake\", 50)\n",
    "cw3 = closest(\"sushi\", 50)\n",
    "closest_words.extend(closest_words2)\n",
    "closest_words.extend(cw3)\n",
    "setlist = list(set(closest_words))\n",
    "print(setlist)"
   ]
  },
  {
   "cell_type": "code",
   "execution_count": 53,
   "metadata": {},
   "outputs": [
    {
     "name": "stdout",
     "output_type": "stream",
     "text": [
      "0.3085654377937317\n",
      "0.4348180890083313\n",
      "0.2516229748725891\n",
      "0.1254919171333313\n",
      "1.0296487752348185\n",
      "0.8303672224283218\n",
      "0.7533785253763199\n",
      "0.9365348741412163\n",
      "1.1294266134500504\n"
     ]
    }
   ],
   "source": [
    "print(spatial.distance.cosine(embeddings[\"chicken\"], embeddings[\"beef\"]))\n",
    "print(spatial.distance.cosine(embeddings[\"chicken\"], embeddings[\"pasta\"]))\n",
    "print(spatial.distance.cosine(embeddings[\"chicken\"], embeddings[\"cheese\"]))\n",
    "print(spatial.distance.cosine(embeddings[\"chicken\"], embeddings[\"salad\"]))\n",
    "\n",
    "print(spatial.distance.cosine(embeddings[\"chicken\"], embeddings[\"oats\"]))\n",
    "print(spatial.distance.cosine(embeddings[\"milk\"], embeddings[\"soup\"]))\n",
    "print(spatial.distance.cosine(embeddings[\"onion\"], embeddings[\"cookie\"]))\n",
    "print(spatial.distance.cosine(embeddings[\"jalapenos\"], embeddings[\"oats\"]))\n",
    "print(spatial.distance.cosine(embeddings[\"pancake\"], embeddings[\"swordfish\"]))"
   ]
  },
  {
   "cell_type": "markdown",
   "metadata": {},
   "source": [
    "### Find the closest clusters for graphing"
   ]
  },
  {
   "cell_type": "markdown",
   "metadata": {},
   "source": [
    "### Visualization"
   ]
  },
  {
   "cell_type": "code",
   "execution_count": 82,
   "metadata": {},
   "outputs": [
    {
     "data": {
      "image/png": "[encoded data removed]",
      "text/plain": [
       "<Figure size 1152x1152 with 1 Axes>"
      ]
     },
     "metadata": {
      "needs_background": "light"
     },
     "output_type": "display_data"
    }
   ],
   "source": [
    "labels = []\n",
    "tokens = []\n",
    "for w in setlist:\n",
    "    labels.append(w)\n",
    "    tokens.append(embeddings[w])\n",
    "tsne_model = TSNE(perplexity=40, n_components=2, init='pca', n_iter=2500, random_state=23)\n",
    "new_values = tsne_model.fit_transform(tokens)\n",
    "x = []\n",
    "y = []\n",
    "for value in new_values:\n",
    "    x.append(value[0])\n",
    "    y.append(value[1])\n",
    "    \n",
    "plt.figure(figsize=(16, 16)) \n",
    "for i in range(len(x)):\n",
    "    plt.scatter(x[i],y[i])\n",
    "    plt.annotate(labels[i],\n",
    "                     xy=(x[i], y[i]),\n",
    "                     xytext=(5, 2),\n",
    "                     textcoords='offset points',\n",
    "                     ha='right',\n",
    "                     va='bottom')\n",
    "plt.show()"
   ]
  },
  {
   "cell_type": "code",
   "execution_count": 109,
   "metadata": {},
   "outputs": [
    {
     "name": "stdout",
     "output_type": "stream",
     "text": [
      "2586\n"
     ]
    }
   ],
   "source": [
    "# BUFFER_SIZE = 500\n",
    "# BATCH_SIZE = 32\n",
    "# TAKE_SIZE = round(.2*len(paragraphs(dataset_size)))\n",
    "\n",
    "# print(TAKE_SIZE)"
   ]
  },
  {
   "cell_type": "markdown",
   "metadata": {},
   "source": [
    "### Load text into datasets"
   ]
  },
  {
   "cell_type": "code",
   "execution_count": 110,
   "metadata": {},
   "outputs": [],
   "source": [
    "# def labeler(example, index):\n",
    "#     return example, tf.cast(index, tf.int64)  \n",
    "\n",
    "# labeled_data_sets = []\n",
    "\n",
    "# for i, recipe in enumerate(paragraphs):  \n",
    "#     lines_dataset = tf.data.Dataset.from_tensor_slices(recipe)\n",
    "#     labeled_dataset = lines_dataset.map(lambda a: labeler(a, i))\n",
    "#     labeled_data_sets.append(labeled_dataset)\n",
    "\n",
    "# all_labeled_data = labeled_data_sets[0]\n",
    "# for labeled_dataset in labeled_data_sets[1:]:\n",
    "#     all_labeled_data = all_labeled_data.concatenate(labeled_dataset)\n",
    "\n",
    "# all_labeled_data = all_labeled_data.shuffle(\n",
    "#     BUFFER_SIZE, reshuffle_each_iteration=False)"
   ]
  },
  {
   "cell_type": "markdown",
   "metadata": {},
   "source": [
    "### Tokenize"
   ]
  },
  {
   "cell_type": "code",
   "execution_count": 148,
   "metadata": {},
   "outputs": [
    {
     "name": "stdout",
     "output_type": "stream",
     "text": [
      "5184\n"
     ]
    }
   ],
   "source": [
    "# tokenizer = tfds.features.text.Tokenizer()\n",
    "\n",
    "# vocabulary_set = set()\n",
    "# for text_tensor, _ in all_labeled_data:\n",
    "#     some_tokens = tokenizer.tokenize(text_tensor.numpy())\n",
    "#     vocabulary_set.update(some_tokens)\n",
    "\n",
    "# vocab_size = len(vocabulary_set)\n",
    "# print(vocab_size)"
   ]
  },
  {
   "cell_type": "markdown",
   "metadata": {},
   "source": [
    "### Encode"
   ]
  },
  {
   "cell_type": "code",
   "execution_count": 112,
   "metadata": {},
   "outputs": [
    {
     "name": "stdout",
     "output_type": "stream",
     "text": [
      "b'cook 1 to 2 minutes, or until tofu is heated through, shaking pan or gently stirring to toss tofu in spice mixture'\n",
      "[4896, 4888, 2983, 2542, 2159, 5122, 3991, 4747, 1399, 3224, 1527, 4120, 1673, 5122, 4545, 1888, 2983, 2783, 4747, 4574, 4384, 2379]\n",
      "<MapDataset shapes: ((None,), ()), types: (tf.int64, tf.int64)>\n"
     ]
    }
   ],
   "source": [
    "# encoder = tfds.features.text.TokenTextEncoder(vocabulary_set)\n",
    "\n",
    "# example_text = next(iter(all_labeled_data))[0].numpy()\n",
    "# print(example_text)\n",
    "\n",
    "# encoded_example = encoder.encode(example_text)\n",
    "# print(encoded_example)\n",
    "\n",
    "\n",
    "# def encode(text_tensor, label):\n",
    "#     encoded_text = encoder.encode(text_tensor.numpy())\n",
    "#     return encoded_text, label\n",
    "\n",
    "# def encode_map_fn(text, label):\n",
    "#     # py_func doesn't set the shape of the returned tensors.\n",
    "#     encoded_text, label = tf.py_function(encode, \n",
    "#                                        inp=[text, label], \n",
    "#                                        Tout=(tf.int64, tf.int64))\n",
    "\n",
    "#     # `tf.data.Datasets` work best if all components have a shape set\n",
    "#     #  so set the shapes manually: \n",
    "#     encoded_text.set_shape([None])\n",
    "#     label.set_shape([])\n",
    "\n",
    "#     return encoded_text, label\n",
    "\n",
    "\n",
    "# all_encoded_data = all_labeled_data.map(encode_map_fn)\n",
    "# print(all_encoded_data)"
   ]
  },
  {
   "cell_type": "markdown",
   "metadata": {},
   "source": [
    "### Test/train split"
   ]
  },
  {
   "cell_type": "code",
   "execution_count": 155,
   "metadata": {},
   "outputs": [],
   "source": [
    "# train_data = all_encoded_data.skip(TAKE_SIZE).shuffle(BUFFER_SIZE)\n",
    "# train_data = train_data.padded_batch(BATCH_SIZE, padded_shapes=([None],[]))\n",
    "\n",
    "# test_data = all_encoded_data.take(TAKE_SIZE)\n",
    "# test_data = test_data.padded_batch(BATCH_SIZE, padded_shapes=([None],[]))\n",
    "\n",
    "# vocab_size += 1 # zero padding increases vocab size by 1"
   ]
  },
  {
   "cell_type": "markdown",
   "metadata": {},
   "source": [
    "## Model"
   ]
  },
  {
   "cell_type": "code",
   "execution_count": 162,
   "metadata": {},
   "outputs": [
    {
     "name": "stdout",
     "output_type": "stream",
     "text": [
      "Model: \"sequential_31\"\n",
      "_________________________________________________________________\n",
      "Layer (type)                 Output Shape              Param #   \n",
      "=================================================================\n",
      "embedding_31 (Embedding)     (None, None, 100)         518500    \n",
      "_________________________________________________________________\n",
      "global_average_pooling1d_26  (None, 100)               0         \n",
      "_________________________________________________________________\n",
      "dense_55 (Dense)             (None, 165)               16665     \n",
      "=================================================================\n",
      "Total params: 535,165\n",
      "Trainable params: 535,165\n",
      "Non-trainable params: 0\n",
      "_________________________________________________________________\n"
     ]
    }
   ],
   "source": [
    "# embedding_dim=100\n",
    "\n",
    "# model = tf.keras.Sequential()\n",
    "# model.add(layers.Embedding(vocab_size, embedding_dim))\n",
    "# model.add(layers.GlobalAveragePooling1D())\n",
    "# # One or more dense layers.\n",
    "# # Edit the list in the `for` line to experiment with layer sizes.\n",
    "# # model.add(layers.Dense(100, activation='relu'))\n",
    "\n",
    "# # Output layer. The first argument is the number of labels.\n",
    "# model.add(tf.keras.layers.Dense(165))\n",
    "\n",
    "# model.summary()"
   ]
  },
  {
   "cell_type": "markdown",
   "metadata": {},
   "source": [
    "## Compile"
   ]
  },
  {
   "cell_type": "code",
   "execution_count": 163,
   "metadata": {},
   "outputs": [],
   "source": [
    "# adam = tf.keras.optimizers.Adam(learning_rate = .001)\n",
    "# model.compile(optimizer=adam,\n",
    "#               loss=[\"mse\"],\n",
    "#               metrics=['accuracy'])"
   ]
  },
  {
   "cell_type": "markdown",
   "metadata": {},
   "source": [
    "## Fit"
   ]
  },
  {
   "cell_type": "code",
   "execution_count": 164,
   "metadata": {},
   "outputs": [
    {
     "name": "stdout",
     "output_type": "stream",
     "text": [
      "Train for 324 steps, validate for 81 steps\n",
      "Epoch 1/100\n",
      "324/324 [==============================] - 23s 71ms/step - loss: 9496.0045 - accuracy: 0.0000e+00 - val_loss: 204.2301 - val_accuracy: 0.0000e+00\n",
      "Epoch 2/100\n",
      "324/324 [==============================] - 23s 70ms/step - loss: 4158.3618 - accuracy: 0.0000e+00 - val_loss: 3088.3258 - val_accuracy: 0.0000e+00\n",
      "Epoch 3/100\n",
      "324/324 [==============================] - 23s 72ms/step - loss: 1549.8960 - accuracy: 0.0000e+00 - val_loss: 7413.8607 - val_accuracy: 0.0000e+00\n",
      "Epoch 4/100\n",
      "324/324 [==============================] - 21s 64ms/step - loss: 1433.1348 - accuracy: 0.0000e+00 - val_loss: 9191.1990 - val_accuracy: 0.0000e+00\n",
      "Epoch 5/100\n",
      "324/324 [==============================] - 21s 64ms/step - loss: 1527.4226 - accuracy: 0.0000e+00 - val_loss: 9566.9295 - val_accuracy: 0.0000e+00\n",
      "Epoch 6/100\n",
      "324/324 [==============================] - 21s 64ms/step - loss: 1516.5570 - accuracy: 0.0000e+00 - val_loss: 9651.1504 - val_accuracy: 0.0000e+00\n",
      "Epoch 7/100\n",
      "324/324 [==============================] - 18s 57ms/step - loss: 1515.3292 - accuracy: 0.0000e+00 - val_loss: 9633.4834 - val_accuracy: 0.0000e+00\n",
      "Epoch 8/100\n",
      "324/324 [==============================] - 20s 63ms/step - loss: 1478.7328 - accuracy: 0.0000e+00 - val_loss: 9627.4731 - val_accuracy: 0.0000e+00\n",
      "Epoch 9/100\n",
      "324/324 [==============================] - 20s 63ms/step - loss: 1468.4267 - accuracy: 0.0000e+00 - val_loss: 9625.6737 - val_accuracy: 0.0000e+00\n",
      "Epoch 10/100\n",
      "324/324 [==============================] - 20s 61ms/step - loss: 1457.0100 - accuracy: 0.0000e+00 - val_loss: 9619.5375 - val_accuracy: 0.0000e+00\n",
      "Epoch 11/100\n",
      "324/324 [==============================] - 23s 72ms/step - loss: 1438.2682 - accuracy: 2.9008e-04 - val_loss: 9621.1334 - val_accuracy: 0.0000e+00\n",
      "Epoch 12/100\n",
      "324/324 [==============================] - 23s 72ms/step - loss: 1426.3181 - accuracy: 6.7685e-04 - val_loss: 9621.7374 - val_accuracy: 0.0000e+00TA: 0s - loss: 1421.1933 - accuracy: 6.8789e\n",
      "Epoch 13/100\n",
      "324/324 [==============================] - 20s 61ms/step - loss: 1417.6589 - accuracy: 8.7024e-04 - val_loss: 9625.5290 - val_accuracy: 0.0000e+00\n",
      "Epoch 14/100\n",
      "324/324 [==============================] - 14s 42ms/step - loss: 1400.8767 - accuracy: 0.0019 - val_loss: 9634.7391 - val_accuracy: 0.0000e+00y: - ETA:  - ETA: 1s - loss: 1353.0434 - accur\n",
      "Epoch 15/100\n",
      "324/324 [==============================] - 12s 36ms/step - loss: 1400.4275 - accuracy: 0.0016 - val_loss: 9617.6009 - val_accuracy: 0.0000e+00 ETA: 3s - loss: 1370.1942 - accuracy - ETA: 2s - loss:\n",
      "Epoch 16/100\n",
      "324/324 [==============================] - 12s 38ms/step - loss: 1388.3223 - accuracy: 0.0015 - val_loss: 9618.2529 - val_accuracy: 3.8670e-04oss: 1666.8956 - acc - ETA: 4s - loss: 1421.0392  - ETA: 2s - loss: 1304.9807 - accuracy: 0.0 - ETA: 2s - loss: 1302.1765 - accuracy: - ETA: 1s - loss: 1319.0954 -\n",
      "Epoch 17/100\n",
      "324/324 [==============================] - 12s 36ms/step - loss: 1382.0721 - accuracy: 0.0020 - val_loss: 9615.3183 - val_accuracy: 3.8670e-04\n",
      "Epoch 18/100\n",
      "324/324 [==============================] - 11s 35ms/step - loss: 1376.9961 - accuracy: 0.0017 - val_loss: 9613.9611 - val_accuracy: 7.7340e-04\n",
      "Epoch 19/100\n",
      "324/324 [==============================] - 13s 41ms/step - loss: 1363.6965 - accuracy: 0.0024 - val_loss: 9618.7892 - val_accuracy: 0.0012 - ETA: 6s - loss: 1565.0653 - accuracy: - ETA: 5s - loss: 1460.840 - ETA: 3s - loss: 12 - ETA: 1s - loss: 1312.9784 - accur\n",
      "Epoch 20/100\n",
      "324/324 [==============================] - 13s 39ms/step - loss: 1358.9349 - accuracy: 0.0016 - val_loss: 9614.0106 - val_accuracy: 7.7340e-04\n",
      "Epoch 21/100\n",
      "324/324 [==============================] - 13s 41ms/step - loss: 1350.9889 - accuracy: 0.0015 - val_loss: 9622.8703 - val_accuracy: 0.0012\n",
      "Epoch 22/100\n",
      "324/324 [==============================] - 12s 37ms/step - loss: 1341.9703 - accuracy: 0.0017 - val_loss: 9620.3507 - val_accuracy: 0.0012\n",
      "Epoch 23/100\n",
      "324/324 [==============================] - 13s 41ms/step - loss: 1340.0880 - accuracy: 0.0020 - val_loss: 9615.4770 - val_accuracy: 7.7340e-04\n",
      "Epoch 24/100\n",
      "324/324 [==============================] - 12s 37ms/step - loss: 1331.5581 - accuracy: 0.0018 - val_loss: 9618.7267 - val_accuracy: 7.7340e-04\n",
      "Epoch 25/100\n",
      "324/324 [==============================] - 9s 29ms/step - loss: 1320.9768 - accuracy: 0.0013 - val_loss: 9623.1231 - val_accuracy: 7.7340e-04\n",
      "Epoch 26/100\n",
      "324/324 [==============================] - 10s 30ms/step - loss: 1317.8603 - accuracy: 0.0018 - val_loss: 9618.6862 - val_accuracy: 7.7340e-04\n",
      "Epoch 27/100\n",
      "324/324 [==============================] - 9s 29ms/step - loss: 1315.0253 - accuracy: 0.0012 - val_loss: 9617.7683 - val_accuracy: 7.7340e-04\n",
      "Epoch 28/100\n",
      "324/324 [==============================] - 10s 31ms/step - loss: 1305.3738 - accuracy: 0.0018 - val_loss: 9619.8180 - val_accuracy: 7.7340e-04\n",
      "Epoch 29/100\n",
      "324/324 [==============================] - 10s 30ms/step - loss: 1299.7833 - accuracy: 0.0014 - val_loss: 9624.2816 - val_accuracy: 7.7340e-04\n",
      "Epoch 30/100\n",
      "324/324 [==============================] - 10s 30ms/step - loss: 1291.8143 - accuracy: 0.0015 - val_loss: 9630.9114 - val_accuracy: 7.7340e-04 1324.0023 - accuracy: - ETA: 2s - loss: 1257.8756 - ac - ETA: 1s - loss: 1221.3015 -\n",
      "Epoch 31/100\n",
      "324/324 [==============================] - 10s 30ms/step - loss: 1287.2346 - accuracy: 0.0019 - val_loss: 9620.9797 - val_accuracy: 7.7340e-04\n",
      "Epoch 32/100\n",
      "324/324 [==============================] - 11s 33ms/step - loss: 1284.1305 - accuracy: 0.0017 - val_loss: 9628.5402 - val_accuracy: 7.7340e-04\n",
      "Epoch 33/100\n",
      "324/324 [==============================] - 10s 32ms/step - loss: 1278.5140 - accuracy: 0.0013 - val_loss: 9629.1699 - val_accuracy: 7.7340e-04\n",
      "Epoch 34/100\n",
      "324/324 [==============================] - 10s 30ms/step - loss: 1276.1511 - accuracy: 0.0014 - val_loss: 9620.3045 - val_accuracy: 7.7340e-04\n",
      "Epoch 35/100\n",
      "324/324 [==============================] - 10s 30ms/step - loss: 1270.3674 - accuracy: 0.0015 - val_loss: 9620.5743 - val_accuracy: 7.7340e-04\n",
      "Epoch 36/100\n",
      "324/324 [==============================] - 10s 31ms/step - loss: 1264.9671 - accuracy: 0.0016 - val_loss: 9616.6918 - val_accuracy: 7.7340e-04\n",
      "Epoch 37/100\n",
      "324/324 [==============================] - 10s 31ms/step - loss: 1258.8324 - accuracy: 0.0014 - val_loss: 9626.4201 - val_accuracy: 7.7340e-04\n",
      "Epoch 38/100\n",
      "324/324 [==============================] - 9s 28ms/step - loss: 1253.4703 - accuracy: 0.0014 - val_loss: 9629.0108 - val_accuracy: 7.7340e-04\n",
      "Epoch 39/100\n",
      "324/324 [==============================] - 10s 30ms/step - loss: 1251.6292 - accuracy: 0.0015 - val_loss: 9607.4645 - val_accuracy: 7.7340e-04\n",
      "Epoch 40/100\n",
      "324/324 [==============================] - 12s 36ms/step - loss: 1244.8147 - accuracy: 0.0015 - val_loss: 9609.0541 - val_accuracy: 7.7340e-04\n",
      "Epoch 41/100\n",
      "324/324 [==============================] - 12s 38ms/step - loss: 1237.3904 - accuracy: 0.0011 - val_loss: 9618.3739 - val_accuracy: 7.7340e-044752 -  - ETA: 3s - los\n",
      "Epoch 42/100\n",
      "324/324 [==============================] - 11s 34ms/step - loss: 1235.8038 - accuracy: 0.0019 - val_loss: 9613.2732 - val_accuracy: 7.7340e-04\n",
      "Epoch 43/100\n",
      "324/324 [==============================] - 11s 34ms/step - loss: 1230.8993 - accuracy: 0.0015 - val_loss: 9638.9881 - val_accuracy: 7.7340e-04oss: 1171.2640 - accuracy: 0.001 - ETA: 2s - loss: 1\n",
      "Epoch 44/100\n",
      "324/324 [==============================] - 10s 32ms/step - loss: 1229.9415 - accuracy: 0.0017 - val_loss: 9627.2397 - val_accuracy: 7.7340e-04\n",
      "Epoch 45/100\n",
      "324/324 [==============================] - 9s 29ms/step - loss: 1226.0117 - accuracy: 0.0016 - val_loss: 9615.4777 - val_accuracy: 7.7340e-04\n",
      "Epoch 46/100\n",
      "324/324 [==============================] - 9s 28ms/step - loss: 1219.1432 - accuracy: 0.0016 - val_loss: 9619.6247 - val_accuracy: 7.7340e-04\n",
      "Epoch 47/100\n",
      "324/324 [==============================] - 10s 30ms/step - loss: 1212.1395 - accuracy: 0.0014 - val_loss: 9649.4667 - val_accuracy: 7.7340e-04\n",
      "Epoch 48/100\n",
      "324/324 [==============================] - 9s 29ms/step - loss: 1213.7531 - accuracy: 0.0018 - val_loss: 9624.9773 - val_accuracy: 7.7340e-04\n",
      "Epoch 49/100\n",
      "324/324 [==============================] - 9s 28ms/step - loss: 1209.7526 - accuracy: 0.0014 - val_loss: 9628.4144 - val_accuracy: 7.7340e-04\n",
      "Epoch 50/100\n",
      "324/324 [==============================] - 10s 29ms/step - loss: 1204.0690 - accuracy: 0.0014 - val_loss: 9623.1548 - val_accuracy: 7.7340e-04\n",
      "Epoch 51/100\n",
      "324/324 [==============================] - 11s 35ms/step - loss: 1198.9353 - accuracy: 0.0014 - val_loss: 9635.6801 - val_accuracy: 7.7340e-0422.326\n",
      "Epoch 52/100\n",
      "324/324 [==============================] - 11s 34ms/step - loss: 1199.6991 - accuracy: 0.0015 - val_loss: 9628.3621 - val_accuracy: 7.7340e-04\n",
      "Epoch 53/100\n",
      "324/324 [==============================] - 12s 36ms/step - loss: 1196.4334 - accuracy: 0.0012 - val_loss: 9622.1070 - val_accuracy: 7.7340e-04\n",
      "Epoch 54/100\n",
      "324/324 [==============================] - 10s 32ms/step - loss: 1196.3942 - accuracy: 0.0015 - val_loss: 9622.7211 - val_accuracy: 7.7340e-04 loss: 1294.1986 - a - ETA: 2s - loss: 1150.8353 - accuracy - ETA: 1s - loss: 1133.2763 - accurac - ETA: 1s - loss: 1152.4598 - accur\n",
      "Epoch 55/100\n",
      "324/324 [==============================] - 10s 31ms/step - loss: 1185.3498 - accuracy: 9.6693e-04 - val_loss: 9624.1496 - val_accuracy: 7.7340e-04\n",
      "Epoch 56/100\n",
      "324/324 [==============================] - 11s 33ms/step - loss: 1181.8954 - accuracy: 0.0016 - val_loss: 9641.9264 - val_accuracy: 7.7340e-04\n",
      "Epoch 57/100\n",
      "324/324 [==============================] - 10s 32ms/step - loss: 1182.0085 - accuracy: 0.0014 - val_loss: 9640.4883 - val_accuracy: 7.7340e-04\n",
      "Epoch 58/100\n",
      "324/324 [==============================] - 10s 32ms/step - loss: 1174.7847 - accuracy: 0.0011 - val_loss: 9626.5799 - val_accuracy: 7.7340e-04\n",
      "Epoch 59/100\n",
      "324/324 [==============================] - 10s 32ms/step - loss: 1173.2541 - accuracy: 0.0012 - val_loss: 9643.5247 - val_accuracy: 7.7340e-04s: 1534.2252 - accurac - ETA: 5s - loss: 1370.5233 - accuracy: - ETA\n",
      "Epoch 60/100\n",
      "324/324 [==============================] - 14s 43ms/step - loss: 1169.6509 - accuracy: 0.0015 - val_loss: 9627.2780 - val_accuracy: 7.7340e-04\n",
      "Epoch 61/100\n",
      "324/324 [==============================] - 13s 40ms/step - loss: 1165.8275 - accuracy: 0.0015 - val_loss: 9647.9626 - val_accuracy: 7.7340e-042 - ETA: 2s - loss: 1113.9648  - ETA: 1s - loss: 1127.0004 - ac\n",
      "Epoch 62/100\n",
      "324/324 [==============================] - 11s 35ms/step - loss: 1165.3376 - accuracy: 0.0015 - val_loss: 9646.2106 - val_accuracy: 7.7340e-04\n",
      "Epoch 63/100\n",
      "324/324 [==============================] - 10s 30ms/step - loss: 1162.5811 - accuracy: 0.0015 - val_loss: 9641.0490 - val_accuracy: 7.7340e-04\n",
      "Epoch 64/100\n",
      "324/324 [==============================] - 11s 33ms/step - loss: 1155.1318 - accuracy: 0.0013 - val_loss: 9657.7978 - val_accuracy: 7.7340e-04\n",
      "Epoch 65/100\n",
      "324/324 [==============================] - 10s 31ms/step - loss: 1154.8612 - accuracy: 0.0013 - val_loss: 9661.0408 - val_accuracy: 7.7340e-04\n",
      "Epoch 66/100\n",
      "324/324 [==============================] - 11s 33ms/step - loss: 1150.3908 - accuracy: 0.0015 - val_loss: 9669.8444 - val_accuracy: 7.7340e-04- loss: 2228.3759 - a - ETA: 6s - loss: 1599.1142 - accu - ETA: 4s - loss: 1323.1514 - accuracy -\n",
      "Epoch 67/100\n",
      "324/324 [==============================] - 10s 30ms/step - loss: 1148.5183 - accuracy: 0.0015 - val_loss: 9665.0022 - val_accuracy: 7.7340e-04\n",
      "Epoch 68/100\n",
      "324/324 [==============================] - 10s 32ms/step - loss: 1148.9796 - accuracy: 0.0015 - val_loss: 9663.4117 - val_accuracy: 7.7340e-04\n",
      "Epoch 69/100\n",
      "324/324 [==============================] - 10s 31ms/step - loss: 1148.8555 - accuracy: 0.0013 - val_loss: 9647.9954 - val_accuracy: 7.7340e-04\n",
      "Epoch 70/100\n",
      "324/324 [==============================] - 10s 31ms/step - loss: 1143.1142 - accuracy: 0.0014 - val_loss: 9641.8191 - val_accuracy: 7.7340e-04\n",
      "Epoch 71/100\n",
      "324/324 [==============================] - 10s 32ms/step - loss: 1137.2989 - accuracy: 0.0013 - val_loss: 9641.0708 - val_accuracy: 7.7340e-04\n",
      "Epoch 72/100\n",
      "324/324 [==============================] - 10s 31ms/step - loss: 1133.9067 - accuracy: 0.0015 - val_loss: 9650.4437 - val_accuracy: 7.7340e-04\n",
      "Epoch 73/100\n",
      "324/324 [==============================] - 11s 33ms/step - loss: 1141.9632 - accuracy: 0.0015 - val_loss: 9657.5367 - val_accuracy: 7.7340e-04\n",
      "Epoch 74/100\n",
      "324/324 [==============================] - 12s 38ms/step - loss: 1133.4859 - accuracy: 0.0013 - val_loss: 9681.0417 - val_accuracy: 7.7340e-04\n",
      "Epoch 75/100\n",
      "324/324 [==============================] - 12s 36ms/step - loss: 1129.8544 - accuracy: 0.0014 - val_loss: 9656.8761 - val_accuracy: 7.7340e-04acy: 0.002 - ETA: 7s - loss: 1509.4498 - accuracy: 0.00 - ETA: 6s - loss: 1454.7077 - accuracy: 0.00 - ETA: 6s - loss: 1405.6249 - accurac - ETA: 5s - loss: 1231 - ETA: 2s - loss: 1078.0968 - accurac - ETA: 1s - loss: 1087.6851 - a\n",
      "Epoch 76/100\n",
      "324/324 [==============================] - 10s 32ms/step - loss: 1121.7594 - accuracy: 0.0013 - val_loss: 9650.7670 - val_accuracy: 7.7340e-04- loss: 1174.7267  - ETA: 2s - loss: 1069.\n",
      "Epoch 77/100\n",
      "324/324 [==============================] - 11s 33ms/step - loss: 1121.7228 - accuracy: 9.6693e-04 - val_loss: 9666.8174 - val_accuracy: 7.7340e-04\n",
      "Epoch 78/100\n",
      "324/324 [==============================] - 11s 34ms/step - loss: 1120.7900 - accuracy: 0.0013 - val_loss: 9686.4299 - val_accuracy: 7.7340e-04- loss: 1250.0028 - a - ETA: 3s - loss: 1096.0458 - accuracy: 0. - ETA: 2s - loss: 1080.5030 - accuracy: 0. - ETA: 2s - loss\n",
      "Epoch 79/100\n",
      "324/324 [==============================] - 10s 31ms/step - loss: 1124.2242 - accuracy: 9.6693e-04 - val_loss: 9662.8564 - val_accuracy: 7.7340e-04\n",
      "Epoch 80/100\n",
      "324/324 [==============================] - 11s 33ms/step - loss: 1110.8488 - accuracy: 0.0015 - val_loss: 9701.5022 - val_accuracy: 7.7340e-04\n",
      "Epoch 81/100\n",
      "324/324 [==============================] - 11s 33ms/step - loss: 1114.5348 - accuracy: 0.0015 - val_loss: 9687.6628 - val_accuracy: 7.7340e-04 - loss: 15 - ETA: 3s - loss: 1113.3543 - accurac - ETA: 2s - loss: 1070.4045 - accuracy: 0. - ETA: 2s - loss: 1067.7764 - ac - ETA: 1s - loss: 1084.3351 - acc\n",
      "Epoch 82/100\n",
      "324/324 [==============================] - 10s 32ms/step - loss: 1111.8535 - accuracy: 0.0015 - val_loss: 9657.7162 - val_accuracy: 7.7340e-041 - ETA: 1s - loss: 1074.5543 - acc\n",
      "Epoch 83/100\n",
      "324/324 [==============================] - 11s 33ms/step - loss: 1107.9178 - accuracy: 0.0012 - val_loss: 9698.1916 - val_accuracy: 7.7340e-04cy: - ETA: 6s - loss: 1503.7477 -  - ETA: 4s - loss: 1189.2400 - accuracy: 0.001 - ETA: 4s - loss: 1176.4210 - accuracy - ETA: 3s - loss: 1104.0341 - accuracy: 0.0 - ETA: 3s - loss: 1085.8917 - accuracy: 0.00 - ETA: 2s - loss: 1075.4405 - accuracy: 0 - ETA: 2s - loss: 1062.3105 - accuracy:  - ETA: 1s - loss: 1059.7136 - accuracy: 0.0 - ETA: 1s - loss: 1065.5615 - \n",
      "Epoch 84/100\n",
      "324/324 [==============================] - 11s 34ms/step - loss: 1112.7639 - accuracy: 0.0014 - val_loss: 9667.7764 - val_accuracy: 7.7340e-04ss: 1084.1481 - accura\n",
      "Epoch 85/100\n",
      "324/324 [==============================] - 10s 31ms/step - loss: 1102.5161 - accuracy: 0.0015 - val_loss: 9666.1091 - val_accuracy: 7.7340e-04TA: 3s -\n",
      "Epoch 86/100\n",
      "324/324 [==============================] - 11s 33ms/step - loss: 1103.8410 - accuracy: 0.0013 - val_loss: 9693.7893 - val_accuracy: 7.7340e-04775 - accuracy - ETA: 2s - loss: 1053.\n",
      "Epoch 87/100\n",
      "324/324 [==============================] - 11s 33ms/step - loss: 1104.4295 - accuracy: 0.0011 - val_loss: 9686.6217 - val_accuracy: 7.7340e-04\n",
      "Epoch 88/100\n",
      "324/324 [==============================] - 10s 31ms/step - loss: 1096.3584 - accuracy: 0.0015 - val_loss: 9703.1867 - val_accuracy: 7.7340e-0453 - - ETA: 4s - loss: 1180.7083 - accuracy:  - ETA: 3s - loss: 1115.7052 - accuracy: 0. - ETA: 3s - loss: 1090.7330 - ETA: 1s - loss: 1051.6998 - a\n",
      "Epoch 89/100\n",
      "324/324 [==============================] - 11s 33ms/step - loss: 1101.3366 - accuracy: 0.0011 - val_loss: 9688.9184 - val_accuracy: 7.7340e-04\n",
      "Epoch 90/100\n",
      "324/324 [==============================] - 11s 33ms/step - loss: 1093.4552 - accuracy: 9.6693e-04 - val_loss: 9699.0282 - val_accuracy: 7.7340e-04 2s - loss: 1053.1436 - accuracy: 0.0 - ETA: 2s - loss: 1048.3465 - accuracy: 0.001 - ETA: 2s - loss: 1047.4056 - accuracy: 9.9206e - ETA: 1s - loss: 1050.3831\n",
      "Epoch 91/100\n",
      "324/324 [==============================] - 10s 31ms/step - loss: 1092.1701 - accuracy: 0.0014 - val_loss: 9704.7923 - val_accuracy: 7.7340e-04 1699.3590 - acc - ETA: 5s - loss: 1349.4224 - accur - ETA: 4s - loss: 1160.8104 - - ETA: 2s - loss: 10\n",
      "Epoch 92/100\n",
      "324/324 [==============================] - 11s 33ms/step - loss: 1092.7816 - accuracy: 0.0015 - val_loss: 9672.6861 - val_accuracy: 7.7340e-04\n",
      "Epoch 93/100\n",
      "324/324 [==============================] - 10s 32ms/step - loss: 1084.0739 - accuracy: 0.0012 - val_loss: 9712.8433 - val_accuracy: 7.7340e-04\n",
      "Epoch 94/100\n",
      "324/324 [==============================] - 10s 31ms/step - loss: 1091.7829 - accuracy: 0.0015 - val_loss: 9694.1374 - val_accuracy: 7.7340e-04524.1720 - acc - ETA: 4s - loss: 1229.3320 - accurac - ETA: 3s - loss: 1116.8308 - accuracy: 0. - ETA: 3s - loss: 1085.7150 - accuracy: 0. - ETA: 2s - loss: 1062.2281 - a - ETA: 1s - loss: 1047.6808 - \n",
      "Epoch 95/100\n",
      "324/324 [==============================] - 10s 32ms/step - loss: 1079.6222 - accuracy: 7.7354e-04 - val_loss: 9719.4687 - val_accuracy: 7.7340e-04: 8s - loss:  - ETA: 4s - loss: 1193.2438 - accuracy: 5 - ETA: 3s - loss: 1108.8348 - accuracy: 6.1 - ETA: 3s - loss\n",
      "Epoch 96/100\n",
      "324/324 [==============================] - 11s 35ms/step - loss: 1079.4373 - accuracy: 0.0012 - val_loss: 9722.0903 - val_accuracy: 7.7340e-04s: 1033.4386 \n",
      "Epoch 97/100\n",
      "324/324 [==============================] - 11s 33ms/step - loss: 1080.5510 - accuracy: 0.0015 - val_loss: 9732.0858 - val_accuracy: 7.7340e-04- accu\n",
      "Epoch 98/100\n",
      "324/324 [==============================] - 11s 33ms/step - loss: 1074.5454 - accuracy: 0.0011 - val_loss: 9717.8465 - val_accuracy: 7.7340e-04 loss: 1033.1099 - accuracy: 0.001 - ETA: 2s - loss: 1031.1055 - accuracy: 0.00 - ETA: 2s - loss: 1029.0892 - accurac - ETA: 1s - loss: 1037.2223 - accuracy: 0.00 - ETA: 1s - loss: 1040.7278 - accur\n",
      "Epoch 99/100\n",
      "324/324 [==============================] - 10s 31ms/step - loss: 1079.6245 - accuracy: 0.0014 - val_loss: 9724.2753 - val_accuracy: 7.7340e-04\n",
      "Epoch 100/100\n",
      "324/324 [==============================] - 12s 36ms/step - loss: 1075.8638 - accuracy: 0.0015 - val_loss: 9736.9909 - val_accuracy: 7.7340e-04\n"
     ]
    }
   ],
   "source": [
    "# history = model.fit(\n",
    "#     train_data,\n",
    "#     epochs=100,\n",
    "#     validation_data=test_data)"
   ]
  },
  {
   "cell_type": "code",
   "execution_count": null,
   "metadata": {},
   "outputs": [],
   "source": [
    "# eval_loss, eval_acc = model.evaluate(test_data)\n",
    "\n",
    "# print('\\nEval loss: {:.3f}, Eval accuracy: {:.3f}'.format(eval_loss, eval_acc))"
   ]
  },
  {
   "cell_type": "code",
   "execution_count": null,
   "metadata": {},
   "outputs": [],
   "source": [
    "# e = model.layers[0]\n",
    "# weights = e.get_weights()[0]\n",
    "# print(weights.shape) # shape: (vocab_size, embedding_dim)"
   ]
  }
 ],
 "metadata": {
  "kernelspec": {
   "display_name": "Python 3",
   "language": "python",
   "name": "python3"
  },
  "language_info": {
   "codemirror_mode": {
    "name": "ipython",
    "version": 3
   },
   "file_extension": ".py",
   "mimetype": "text/x-python",
   "name": "python",
   "nbconvert_exporter": "python",
   "pygments_lexer": "ipython3",
   "version": "3.7.7"
  }
 },
 "nbformat": 4,
 "nbformat_minor": 2
}
